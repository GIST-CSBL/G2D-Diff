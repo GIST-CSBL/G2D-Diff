{
 "cells": [
  {
   "cell_type": "code",
   "execution_count": 1,
   "id": "4c5923b2-e4ea-4fdd-a648-f5c59a9650d4",
   "metadata": {},
   "outputs": [
    {
     "name": "stderr",
     "output_type": "stream",
     "text": [
      "/home/jovyan/hyunho/anaconda3/envs/g2d_diff/lib/python3.8/site-packages/tqdm/auto.py:21: TqdmWarning: IProgress not found. Please update jupyter and ipywidgets. See https://ipywidgets.readthedocs.io/en/stable/user_install.html\n",
      "  from .autonotebook import tqdm as notebook_tqdm\n"
     ]
    }
   ],
   "source": [
    "import torch\n",
    "import pandas as pd\n",
    "import numpy as np\n",
    "import matplotlib.pyplot as plt\n",
    "from torch import nn \n",
    "import random\n",
    "import os\n",
    "\n",
    "from src.utils.g2d_diff_genodrug_dataset import *\n",
    "from src.g2d_diff_pred import *\n",
    "from src.scheduler import *\n",
    "\n",
    "\n",
    "def set_seed(seed: int = 42) -> None:\n",
    "    np.random.seed(seed)\n",
    "    random.seed(seed)\n",
    "    torch.manual_seed(seed)\n",
    "    torch.cuda.manual_seed(seed)\n",
    "    torch.cuda.manual_seed_all(seed)\n",
    "    torch.backends.cudnn.deterministic = True\n",
    "    torch.backends.cudnn.benchmark = False\n",
    "    os.environ[\"PYTHONHASHSEED\"] = str(seed)\n",
    "    print(f\"Random seed set as {seed}\")\n",
    "\n",
    "\n",
    "import sys\n",
    "sys.path.insert(0, './vae_package')\n"
   ]
  },
  {
   "cell_type": "markdown",
   "id": "b211c1ec-7af3-4167-893c-25fcdc31d778",
   "metadata": {},
   "source": [
    "## G2D-Pred Training Wrapper"
   ]
  },
  {
   "cell_type": "code",
   "execution_count": 4,
   "id": "65ec2b23-d7b5-4b5f-803b-d9b5425ab7f1",
   "metadata": {},
   "outputs": [],
   "source": [
    "import logging\n",
    "import datetime\n",
    "from torch import autograd\n",
    "from torch.autograd import Variable\n",
    "import matplotlib.pyplot as plt\n",
    "\n",
    "from sklearn.metrics import mean_squared_error, r2_score\n",
    "from scipy.stats import pearsonr\n",
    "\n",
    "\n",
    "import numpy\n",
    "import torch.optim as optim\n",
    "from torch.utils.data import DataLoader\n",
    "from tqdm import tqdm\n",
    "from sklearn.utils import shuffle\n",
    "import copy\n",
    "class G2D_Pred_Trainer(nn.Module):\n",
    "    def __init__(self, num_of_genotypes = 1, num_of_dcls = 5, cond_dim = 128,  drug_dim = 128, device = 'cuda'):\n",
    "        super(G2D_Pred_Trainer, self).__init__()\n",
    "        \n",
    "\n",
    "\n",
    "        self.auc_predictor = NCIPREDICTOR(num_of_genotypes = num_of_genotypes, num_of_dcls = num_of_dcls, \n",
    "                                          cond_dim = cond_dim, drug_dim = drug_dim, device = device) \n",
    "\n",
    "   \n",
    "            \n",
    "        \n",
    "        self.num_of_genotypes = num_of_genotypes\n",
    "        self.num_of_dcls = num_of_dcls\n",
    "        self.condim = cond_dim\n",
    "        self.input_dim = drug_dim\n",
    "        self.device_name = device\n",
    "       \n",
    "        \n",
    "    def validation(self, dataset_obj, collate_fn):     \n",
    "        val_loader = DataLoader(dataset_obj, batch_size=128, shuffle=False, drop_last=False, collate_fn=collate_fn)\n",
    "        pred_list = []\n",
    "        targ_list = []\n",
    "\n",
    "        self.auc_predictor.eval()\n",
    "        for i, batch in tqdm(enumerate(val_loader), total = len(val_loader)):\n",
    "\n",
    "\n",
    "            ## Batch data load to device\n",
    "            for key in batch.keys():\n",
    "                if 'genotype' in key:\n",
    "                    for mut in batch[key].keys():\n",
    "                        batch[key][mut] = batch[key][mut].to(device)\n",
    "                elif key == 'cell_name':\n",
    "                    None\n",
    "                elif key == 'drug_name':\n",
    "                    None\n",
    "                else:\n",
    "                    batch[key] = batch[key].to(device)\n",
    "\n",
    "\n",
    "            pred_auc = self.auc_predictor(batch)\n",
    "            pred_list.append(pred_auc.squeeze().detach().cpu().numpy())\n",
    "            targ_list.append(batch['auc'].detach().cpu().numpy())\n",
    "        pred_list = np.hstack(pred_list)\n",
    "        targ_list = np.hstack(targ_list)\n",
    "        \n",
    "        return np.sqrt(mean_squared_error(targ_list , pred_list)), r2_score(targ_list , pred_list), pearsonr(targ_list, pred_list)[0]\n",
    "    \n",
    "        \n",
    "    def train(self, dataset_obj, collate_fn, train_config: Dict, count, val_dataset_obj, load_model = False, load_path = None, sampler = None):\n",
    "        \n",
    "        \n",
    "        \n",
    "        lr = train_config['lr']\n",
    "        batch_size = train_config['batch_size']\n",
    "        epochs = train_config['epoch']\n",
    "        train_config['current_epoch'] = 0\n",
    "        \n",
    "\n",
    "            \n",
    "        tr_loader = DataLoader(dataset_obj, batch_size=batch_size, drop_last=True, collate_fn=collate_fn, sampler = sampler)\n",
    "\n",
    "        \n",
    "        solver = optim.Adam(self.auc_predictor.parameters(), lr=lr)\n",
    "\n",
    "        lr_scheduler = NoamLR(optimizer = solver, \n",
    "                                 warmup_epochs = [1],\n",
    "                                 total_epochs = [200],\n",
    "                                 steps_per_epoch = len(tr_loader),\n",
    "                                 init_lr = [1e-6],\n",
    "                                 max_lr = [lr],\n",
    "                                 final_lr = [1e-5])\n",
    "        \n",
    "        mse_loss = nn.MSELoss()\n",
    "        fin_losses = []\n",
    "        val_results = []\n",
    "\n",
    "        max_val = 0\n",
    "        patience = 0\n",
    "\n",
    "        for epoch in range(train_config['current_epoch'], epochs):\n",
    "            \n",
    "            int_losses = []\n",
    "\n",
    "            print (\"Epoch: %d\" %epoch)\n",
    "            self.auc_predictor.train()\n",
    "            for i, batch in tqdm(enumerate(tr_loader), total = len(tr_loader)):\n",
    "         \n",
    "\n",
    "                ## Batch data load to device\n",
    "                for key in batch.keys():\n",
    "                    if 'genotype' in key:\n",
    "                        for mut in batch[key].keys():\n",
    "                            batch[key][mut] = batch[key][mut].to(self.device_name)\n",
    "                    elif key == 'cell_name':\n",
    "                        None\n",
    "                    elif key == 'drug_name':\n",
    "                        None\n",
    "                    else:\n",
    "                        batch[key] = batch[key].to(self.device_name)\n",
    "                \n",
    "\n",
    "                \n",
    "   \n",
    "                pred_auc = self.auc_predictor(batch)\n",
    "                pred_loss = mse_loss(pred_auc.squeeze(), batch['auc'])\n",
    "\n",
    "      \n",
    "                int_losses.append(pred_loss.detach().cpu().numpy())\n",
    "\n",
    "                \n",
    "                solver.zero_grad()\n",
    "                pred_loss.backward()\n",
    "                solver.step()\n",
    "                lr_scheduler.step()\n",
    "\n",
    "    \n",
    "    \n",
    "            rmse, r2, pcc = self.validation(val_dataset_obj, collate_fn)\n",
    "            print(rmse, r2, pcc)\n",
    "            val_results.append((rmse, r2, pcc))\n",
    "\n",
    "            t= int(len(np.array(int_losses)) / 1)\n",
    "            x = []\n",
    "            for i in range(int(len(np.array(int_losses)) / t)):\n",
    "                x.append(np.mean(np.array(int_losses)[i*t:(i+1)*t]))\n",
    "            fin_losses += x\n",
    "\n",
    "            \n",
    "            train_config['current_epoch'] = epoch\n",
    "            ckpt_dict = {\n",
    "\n",
    "            'condition_encoder_state_dict': self.condition_encoder.state_dict(),\n",
    "            'response_predictor_state_dict': self.response_predictor.state_dict(),\n",
    "\n",
    "                \n",
    "            'solver_state_dict': solver.state_dict(),\n",
    "         \n",
    "            'losses': fin_losses,\n",
    "           \n",
    "            'val_results': val_results,\n",
    "                \n",
    "            'configs' : train_config\n",
    "            }\n",
    "            ## Use here to save the model\n",
    "            #torch.save(ckpt_dict, \"0104_predictor_%d_%d.pth\"%(count, epoch))\n",
    "        return None\n",
    "    \n",
    "    \n",
    "        "
   ]
  },
  {
   "cell_type": "markdown",
   "id": "3893c67f-602b-4c38-a9ee-85b40767da47",
   "metadata": {},
   "source": [
    "## Data Loading"
   ]
  },
  {
   "cell_type": "code",
   "execution_count": 5,
   "id": "cfebc3f1-040b-452f-8c78-2f09a5bfa72f",
   "metadata": {},
   "outputs": [],
   "source": [
    "PREDIFINED_GENOTYPES = ['mut', 'cna', 'cnd']\n",
    "\n",
    "\n",
    "\n",
    "nci_data = pd.read_csv(\"data/drug_response_data/DC_drug_response.csv\").dropna()\n",
    "\n",
    "\n",
    "mean_auc = nci_data['auc'].mean()\n",
    "std_auc = nci_data['auc'].std()\n",
    "\n",
    "nci_data['z_score'] = nci_data['auc'].map(lambda x: np.abs((x-mean_auc)/(std_auc + 1e-8)))\n",
    "\n",
    "\n",
    "cell2mut = pd.read_csv(\"data/drug_response_data/original_cell2mut.csv\", index_col = 0).rename(columns={'index':'ccle_name'})\n",
    "cell2cna = pd.read_csv(\"data/drug_response_data/original_cell2cna.csv\", index_col = 0).rename(columns={'index':'ccle_name'})\n",
    "cell2cnd = pd.read_csv(\"data/drug_response_data/original_cell2cnd.csv\", index_col = 0).rename(columns={'index':'ccle_name'})\n",
    "drug2smi = pd.read_csv(\"data/drug_response_data/DC_drug2smi.csv\").iloc[:, 0:-1]\n",
    "\n",
    "\n",
    "train_config = {}\n",
    "train_config['lr'] = 1e-4\n",
    "train_config['batch_size'] = 128\n",
    "train_config['epoch'] = 1000\n",
    "\n",
    "\n",
    "    \n",
    "    "
   ]
  },
  {
   "cell_type": "code",
   "execution_count": 8,
   "id": "ccf293fa",
   "metadata": {},
   "outputs": [],
   "source": [
    "nci_data_test = nci_data.sample(frac = 0.01, random_state = 0)\n",
    "nci_data_train = pd.concat([nci_data, nci_data_test], axis = 0).drop_duplicates(keep=False)"
   ]
  },
  {
   "cell_type": "code",
   "execution_count": 9,
   "id": "4656afd5",
   "metadata": {},
   "outputs": [
    {
     "data": {
      "text/plain": [
       "<Axes: >"
      ]
     },
     "execution_count": 9,
     "metadata": {},
     "output_type": "execute_result"
    },
    {
     "data": {
      "image/png": "[encoded data removed]",
      "text/plain": [
       "<Figure size 640x480 with 1 Axes>"
      ]
     },
     "metadata": {},
     "output_type": "display_data"
    }
   ],
   "source": [
    "nci_data_test['auc'].hist()"
   ]
  },
  {
   "cell_type": "code",
   "execution_count": 10,
   "id": "69475115",
   "metadata": {},
   "outputs": [
    {
     "data": {
      "text/plain": [
       "<Axes: >"
      ]
     },
     "execution_count": 10,
     "metadata": {},
     "output_type": "execute_result"
    },
    {
     "data": {
      "image/png": "[encoded data removed]",
      "text/plain": [
       "<Figure size 640x480 with 1 Axes>"
      ]
     },
     "metadata": {},
     "output_type": "display_data"
    }
   ],
   "source": [
    "nci_data_train['auc'].hist()"
   ]
  },
  {
   "cell_type": "markdown",
   "id": "729d53ea-c155-4ef5-9d1b-52c7118c0fab",
   "metadata": {},
   "source": [
    "## Training"
   ]
  },
  {
   "cell_type": "code",
   "execution_count": null,
   "id": "705378d8-7619-4508-a2f5-7bfe0e9bcddd",
   "metadata": {
    "tags": []
   },
   "outputs": [],
   "source": [
    "device='cuda:0'\n",
    "for repeat in range(5):\n",
    "    set_seed(repeat)\n",
    "    framework = G2D_Pred_Trainer(num_of_genotypes = 3, num_of_dcls = 5, cond_dim = 128, drug_dim = 128,  device = device)\n",
    "    framework.to(device).to(torch.float)\n",
    "\n",
    "    \n",
    "    valid = nci_data_train.sample(frac = 0.01, random_state = repeat)\n",
    "    train = pd.concat([nci_data_train, valid], axis = 0).drop_duplicates(keep=False)\n",
    "\n",
    "\n",
    "    samples_weight = train['z_score'].values\n",
    "    samples_weight = torch.from_numpy(samples_weight)\n",
    "    sampler = torch.utils.data.WeightedRandomSampler(samples_weight.type('torch.DoubleTensor'), len(samples_weight))\n",
    "\n",
    "    train = train.iloc[:, 0:4]\n",
    "    valid = valid.iloc[:, 0:4]\n",
    "\n",
    "    \n",
    "    train_dataset_obj = GenoDrugDataset(train, cell2mut, drug2smi, cna=cell2cna, cnd=cell2cnd)\n",
    "    val_dataset_obj = GenoDrugDataset(valid, cell2mut, drug2smi, cna=cell2cna, cnd=cell2cnd)\n",
    "    collate_fn = GenoDrugCollator(genotypes=PREDIFINED_GENOTYPES)\n",
    "\n",
    "    _ = framework.train(dataset_obj = train_dataset_obj, collate_fn = collate_fn, \\\n",
    "                                         train_config = train_config, val_dataset_obj = val_dataset_obj, count = repeat, sampler = sampler)"
   ]
  }
 ],
 "metadata": {
  "kernelspec": {
   "display_name": "gen_env",
   "language": "python",
   "name": "gen_env"
  },
  "language_info": {
   "codemirror_mode": {
    "name": "ipython",
    "version": 3
   },
   "file_extension": ".py",
   "mimetype": "text/x-python",
   "name": "python",
   "nbconvert_exporter": "python",
   "pygments_lexer": "ipython3",
   "version": "3.7.13"
  }
 },
 "nbformat": 4,
 "nbformat_minor": 5
}
