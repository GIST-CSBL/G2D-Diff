{
 "cells": [
  {
   "cell_type": "code",
   "execution_count": 1,
   "id": "4c5923b2-e4ea-4fdd-a648-f5c59a9650d4",
   "metadata": {},
   "outputs": [
    {
     "name": "stderr",
     "output_type": "stream",
     "text": [
      "/home/jovyan/hyunho/anaconda3/envs/g2d_diff/lib/python3.8/site-packages/tqdm/auto.py:21: TqdmWarning: IProgress not found. Please update jupyter and ipywidgets. See https://ipywidgets.readthedocs.io/en/stable/user_install.html\n",
      "  from .autonotebook import tqdm as notebook_tqdm\n"
     ]
    }
   ],
   "source": [
    "import torch\n",
    "import pandas as pd\n",
    "import numpy as np\n",
    "import matplotlib.pyplot as plt\n",
    "from torch import nn \n",
    "import random\n",
    "import os\n",
    "\n",
    "from src.utils.g2d_diff_genodrug_dataset import *\n",
    "from src.g2dpred_rev import *\n",
    "from src.scheduler import *\n",
    "\n",
    "\n",
    "def set_seed(seed: int = 42) -> None:\n",
    "    np.random.seed(seed)\n",
    "    random.seed(seed)\n",
    "    torch.manual_seed(seed)\n",
    "    torch.cuda.manual_seed(seed)\n",
    "    torch.cuda.manual_seed_all(seed)\n",
    "    # When running on the CuDNN backend, two further options must be set\n",
    "    torch.backends.cudnn.deterministic = True\n",
    "    torch.backends.cudnn.benchmark = False\n",
    "    # Set a fixed value for the hash seed\n",
    "    os.environ[\"PYTHONHASHSEED\"] = str(seed)\n",
    "    print(f\"Random seed set as {seed}\")\n",
    "\n",
    "\n",
    "import sys\n",
    "sys.path.insert(0, './vae_package')\n"
   ]
  },
  {
   "cell_type": "code",
   "execution_count": 3,
   "id": "7b905487-6213-4536-9b5d-14ae156caa4f",
   "metadata": {},
   "outputs": [
    {
     "name": "stdout",
     "output_type": "stream",
     "text": [
      "Mon Mar 24 00:35:40 2025       \n",
      "+---------------------------------------------------------------------------------------+\n",
      "| NVIDIA-SMI 535.161.07             Driver Version: 535.161.07   CUDA Version: 12.2     |\n",
      "|-----------------------------------------+----------------------+----------------------+\n",
      "| GPU  Name                 Persistence-M | Bus-Id        Disp.A | Volatile Uncorr. ECC |\n",
      "| Fan  Temp   Perf          Pwr:Usage/Cap |         Memory-Usage | GPU-Util  Compute M. |\n",
      "|                                         |                      |               MIG M. |\n",
      "|=========================================+======================+======================|\n",
      "|   0  NVIDIA A100-SXM4-40GB          Off | 00000000:10:00.0 Off |                    0 |\n",
      "| N/A   29C    P0              63W / 400W |   1792MiB / 40960MiB |      0%      Default |\n",
      "|                                         |                      |             Disabled |\n",
      "+-----------------------------------------+----------------------+----------------------+\n",
      "|   1  NVIDIA A100-SXM4-40GB          Off | 00000000:49:00.0 Off |                  258 |\n",
      "| N/A   28C    P0              61W / 400W |  22380MiB / 40960MiB |      0%      Default |\n",
      "|                                         |                      |             Disabled |\n",
      "+-----------------------------------------+----------------------+----------------------+\n",
      "|   2  NVIDIA A100-SXM4-40GB          Off | 00000000:4D:00.0 Off |                    0 |\n",
      "| N/A   29C    P0              63W / 400W |  22380MiB / 40960MiB |      0%      Default |\n",
      "|                                         |                      |             Disabled |\n",
      "+-----------------------------------------+----------------------+----------------------+\n",
      "|   3  NVIDIA A100-SXM4-40GB          Off | 00000000:8A:00.0 Off |                    0 |\n",
      "| N/A   29C    P0              65W / 400W |  30888MiB / 40960MiB |      0%      Default |\n",
      "|                                         |                      |             Disabled |\n",
      "+-----------------------------------------+----------------------+----------------------+\n",
      "|   4  NVIDIA A100-SXM4-40GB          Off | 00000000:8F:00.0 Off |                    0 |\n",
      "| N/A   29C    P0              64W / 400W |  22380MiB / 40960MiB |      0%      Default |\n",
      "|                                         |                      |             Disabled |\n",
      "+-----------------------------------------+----------------------+----------------------+\n",
      "|   5  NVIDIA A100-SXM4-40GB          Off | 00000000:C6:00.0 Off |                    0 |\n",
      "| N/A   27C    P0              54W / 400W |      3MiB / 40960MiB |      0%      Default |\n",
      "|                                         |                      |             Disabled |\n",
      "+-----------------------------------------+----------------------+----------------------+\n",
      "                                                                                         \n",
      "+---------------------------------------------------------------------------------------+\n",
      "| Processes:                                                                            |\n",
      "|  GPU   GI   CI        PID   Type   Process name                            GPU Memory |\n",
      "|        ID   ID                                                             Usage      |\n",
      "|=======================================================================================|\n",
      "+---------------------------------------------------------------------------------------+\n"
     ]
    }
   ],
   "source": [
    "\n",
    "!nvidia-smi"
   ]
  },
  {
   "cell_type": "markdown",
   "id": "204bfba4",
   "metadata": {},
   "source": [
    "## G2D-Pred Training Wrapper"
   ]
  },
  {
   "cell_type": "code",
   "execution_count": 6,
   "id": "65ec2b23-d7b5-4b5f-803b-d9b5425ab7f1",
   "metadata": {},
   "outputs": [],
   "source": [
    "import logging\n",
    "import datetime\n",
    "from torch import autograd\n",
    "from torch.autograd import Variable\n",
    "import matplotlib.pyplot as plt\n",
    "\n",
    "from sklearn.metrics import mean_squared_error, r2_score\n",
    "from scipy.stats import pearsonr\n",
    "\n",
    "\n",
    "import numpy\n",
    "import torch.optim as optim\n",
    "from torch.utils.data import DataLoader\n",
    "from tqdm import tqdm\n",
    "from sklearn.utils import shuffle\n",
    "import copy\n",
    "class G2D_Pred_Trainer(nn.Module):\n",
    "    def __init__(self, num_of_genotypes = 1, num_of_dcls = 5, cond_dim = 128,  drug_dim = 128, device = 'cuda'):\n",
    "        super(G2D_Pred_Trainer, self).__init__()\n",
    "        \n",
    "\n",
    "\n",
    "        self.auc_predictor = NCIPREDICTOR(num_of_genotypes = num_of_genotypes, num_of_dcls = num_of_dcls, \n",
    "                                          cond_dim = cond_dim, drug_dim = drug_dim, device = device) \n",
    "\n",
    "   \n",
    "            \n",
    "        \n",
    "        self.num_of_genotypes = num_of_genotypes\n",
    "        self.num_of_dcls = num_of_dcls\n",
    "        self.condim = cond_dim\n",
    "        self.input_dim = drug_dim\n",
    "        self.device_name = device\n",
    "       \n",
    "        \n",
    "    def validation(self, dataset_obj, collate_fn):     \n",
    "        val_loader = DataLoader(dataset_obj, batch_size=128, shuffle=False, drop_last=False, collate_fn=collate_fn)\n",
    "        pred_list = []\n",
    "        targ_list = []\n",
    "\n",
    "        self.auc_predictor.eval()\n",
    "        for i, batch in tqdm(enumerate(val_loader), total = len(val_loader)):\n",
    "\n",
    "\n",
    "            ## Batch data load to device\n",
    "            for key in batch.keys():\n",
    "                if 'genotype' in key:\n",
    "                    for mut in batch[key].keys():\n",
    "                        batch[key][mut] = batch[key][mut].to(device)\n",
    "                elif key == 'cell_name':\n",
    "                    None\n",
    "                elif key == 'drug_name':\n",
    "                    None\n",
    "                else:\n",
    "                    batch[key] = batch[key].to(device)\n",
    "\n",
    "\n",
    "\n",
    "\n",
    "            pred_auc = self.auc_predictor(batch)\n",
    "            pred_list.append(pred_auc.squeeze().detach().cpu().numpy())\n",
    "            targ_list.append(batch['auc'].detach().cpu().numpy())\n",
    "        pred_list = np.hstack(pred_list)\n",
    "        targ_list = np.hstack(targ_list)\n",
    "        \n",
    "        return np.sqrt(mean_squared_error(targ_list , pred_list)), r2_score(targ_list , pred_list), pearsonr(targ_list, pred_list)[0]\n",
    "    \n",
    "        \n",
    "    def train(self, dataset_obj, collate_fn, train_config: Dict, count, val_dataset_obj, load_model = False, load_path = None, sampler = None):\n",
    "        \n",
    "        \n",
    "        \n",
    "        lr = train_config['lr']\n",
    "        batch_size = train_config['batch_size']\n",
    "        epochs = train_config['epoch']\n",
    "        train_config['current_epoch'] = 0\n",
    "        \n",
    "\n",
    "            \n",
    "        tr_loader = DataLoader(dataset_obj, batch_size=batch_size, drop_last=True, collate_fn=collate_fn, sampler = sampler)\n",
    "\n",
    "        \n",
    "        solver = optim.Adam(self.auc_predictor.parameters(), lr=lr)\n",
    "\n",
    "        lr_scheduler = NoamLR(optimizer = solver, \n",
    "                                 warmup_epochs = [1],\n",
    "                                 total_epochs = [200],\n",
    "                                 steps_per_epoch = len(tr_loader),\n",
    "                                 init_lr = [1e-6],\n",
    "                                 max_lr = [lr],\n",
    "                                 final_lr = [1e-5])\n",
    "        \n",
    "        mse_loss = nn.MSELoss()\n",
    "        fin_losses = []\n",
    "        val_results = []\n",
    "\n",
    "        max_val = 0\n",
    "        patience = 0\n",
    "\n",
    "        for epoch in range(train_config['current_epoch'], epochs):\n",
    "            \n",
    "            int_losses = []\n",
    "\n",
    "            print (\"Epoch: %d\" %epoch)\n",
    "            self.auc_predictor.train()\n",
    "            for i, batch in tqdm(enumerate(tr_loader), total = len(tr_loader)):\n",
    "         \n",
    "\n",
    "                ## Batch data load to device\n",
    "                for key in batch.keys():\n",
    "                    if 'genotype' in key:\n",
    "                        for mut in batch[key].keys():\n",
    "                            batch[key][mut] = batch[key][mut].to(self.device_name)\n",
    "                    elif key == 'cell_name':\n",
    "                        None\n",
    "                    elif key == 'drug_name':\n",
    "                        None\n",
    "                    else:\n",
    "                        batch[key] = batch[key].to(self.device_name)\n",
    "                \n",
    "\n",
    "                \n",
    "   \n",
    "                pred_auc = self.auc_predictor(batch)\n",
    "                pred_loss = mse_loss(pred_auc.squeeze(), batch['auc'])\n",
    "\n",
    "      \n",
    "                int_losses.append(pred_loss.detach().cpu().numpy())\n",
    "\n",
    "                \n",
    "                solver.zero_grad()\n",
    "                pred_loss.backward()\n",
    "                solver.step()\n",
    "                lr_scheduler.step()\n",
    "\n",
    "    \n",
    "    \n",
    "            rmse, r2, pcc = self.validation(val_dataset_obj, collate_fn)\n",
    "            print(rmse, r2, pcc)\n",
    "            val_results.append((rmse, r2, pcc))\n",
    "\n",
    "            t= int(len(np.array(int_losses)) / 1)\n",
    "            x = []\n",
    "            for i in range(int(len(np.array(int_losses)) / t)):\n",
    "                x.append(np.mean(np.array(int_losses)[i*t:(i+1)*t]))\n",
    "            fin_losses += x\n",
    "\n",
    "            \n",
    "            train_config['current_epoch'] = epoch\n",
    "            ckpt_dict = {\n",
    "\n",
    "            'predictor_state_dict': self.auc_predictor.state_dict(),\n",
    "\n",
    "                \n",
    "            'solver_state_dict': solver.state_dict(),\n",
    "         \n",
    "            'losses': fin_losses,\n",
    "           \n",
    "            'val_results': val_results,\n",
    "                \n",
    "            'configs' : train_config\n",
    "            }\n",
    "  \n",
    "            #torch.save(ckpt_dict, \"g2d_pred_revised/250324_predictor_%d_%d.pth\"%(count, epoch))\n",
    "        return None\n",
    "    \n",
    "    \n",
    "        "
   ]
  },
  {
   "cell_type": "code",
   "execution_count": 7,
   "id": "cfebc3f1-040b-452f-8c78-2f09a5bfa72f",
   "metadata": {},
   "outputs": [],
   "source": [
    "PREDIFINED_GENOTYPES = ['mut', 'cna', 'cnd']\n",
    "\n",
    "\n",
    "\n",
    "nci_data = pd.read_csv(\"data/drug_response_data/original_nci_drug_response_revised_1129.csv\").dropna()\n",
    "\n",
    "\n",
    "mean_auc = nci_data['auc'].mean()\n",
    "std_auc = nci_data['auc'].std()\n",
    "\n",
    "nci_data['z_score'] = nci_data['auc'].map(lambda x: np.abs((x-mean_auc)/(std_auc + 1e-8)))\n",
    "\n",
    "\n",
    "cell2mut = pd.read_csv(\"data/drug_response_data/original_cell2mut.csv\", index_col = 0).rename(columns={'index':'ccle_name'})\n",
    "cell2cna = pd.read_csv(\"data/drug_response_data/original_cell2cna.csv\", index_col = 0).rename(columns={'index':'ccle_name'})\n",
    "cell2cnd = pd.read_csv(\"data/drug_response_data/original_cell2cnd.csv\", index_col = 0).rename(columns={'index':'ccle_name'})\n",
    "drug2smi = pd.read_csv(\"data/drug_response_data/latent_nci_reconstructed_1129.csv\").iloc[:, 0:-1]\n",
    "\n",
    "\n",
    "train_config = {}\n",
    "train_config['lr'] = 1e-4\n",
    "train_config['batch_size'] = 128\n",
    "train_config['epoch'] = 200\n",
    "\n",
    "\n",
    "    \n",
    "    "
   ]
  },
  {
   "cell_type": "code",
   "execution_count": 8,
   "id": "5d8b3a92-9772-4139-b8d7-4ad9e7f3798d",
   "metadata": {},
   "outputs": [
    {
     "data": {
      "text/plain": [
       "6340"
      ]
     },
     "execution_count": 8,
     "metadata": {},
     "output_type": "execute_result"
    }
   ],
   "source": [
    "len(nci_data) // 128"
   ]
  },
  {
   "cell_type": "code",
   "execution_count": 9,
   "id": "a5233246",
   "metadata": {},
   "outputs": [
    {
     "name": "stdout",
     "output_type": "stream",
     "text": [
      "Mon Mar 24 00:36:13 2025       \n",
      "+---------------------------------------------------------------------------------------+\n",
      "| NVIDIA-SMI 535.161.07             Driver Version: 535.161.07   CUDA Version: 12.2     |\n",
      "|-----------------------------------------+----------------------+----------------------+\n",
      "| GPU  Name                 Persistence-M | Bus-Id        Disp.A | Volatile Uncorr. ECC |\n",
      "| Fan  Temp   Perf          Pwr:Usage/Cap |         Memory-Usage | GPU-Util  Compute M. |\n",
      "|                                         |                      |               MIG M. |\n",
      "|=========================================+======================+======================|\n",
      "|   0  NVIDIA A100-SXM4-40GB          Off | 00000000:10:00.0 Off |                    0 |\n",
      "| N/A   28C    P0              63W / 400W |   1792MiB / 40960MiB |      0%      Default |\n",
      "|                                         |                      |             Disabled |\n",
      "+-----------------------------------------+----------------------+----------------------+\n",
      "|   1  NVIDIA A100-SXM4-40GB          Off | 00000000:49:00.0 Off |                  258 |\n",
      "| N/A   28C    P0              54W / 400W |      3MiB / 40960MiB |      0%      Default |\n",
      "|                                         |                      |             Disabled |\n",
      "+-----------------------------------------+----------------------+----------------------+\n",
      "|   2  NVIDIA A100-SXM4-40GB          Off | 00000000:4D:00.0 Off |                    0 |\n",
      "| N/A   29C    P0              63W / 400W |  22380MiB / 40960MiB |      0%      Default |\n",
      "|                                         |                      |             Disabled |\n",
      "+-----------------------------------------+----------------------+----------------------+\n",
      "|   3  NVIDIA A100-SXM4-40GB          Off | 00000000:8A:00.0 Off |                    0 |\n",
      "| N/A   29C    P0              65W / 400W |  30888MiB / 40960MiB |      0%      Default |\n",
      "|                                         |                      |             Disabled |\n",
      "+-----------------------------------------+----------------------+----------------------+\n",
      "|   4  NVIDIA A100-SXM4-40GB          Off | 00000000:8F:00.0 Off |                    0 |\n",
      "| N/A   29C    P0              64W / 400W |  22380MiB / 40960MiB |      0%      Default |\n",
      "|                                         |                      |             Disabled |\n",
      "+-----------------------------------------+----------------------+----------------------+\n",
      "|   5  NVIDIA A100-SXM4-40GB          Off | 00000000:C6:00.0 Off |                    0 |\n",
      "| N/A   27C    P0              54W / 400W |      3MiB / 40960MiB |      0%      Default |\n",
      "|                                         |                      |             Disabled |\n",
      "+-----------------------------------------+----------------------+----------------------+\n",
      "                                                                                         \n",
      "+---------------------------------------------------------------------------------------+\n",
      "| Processes:                                                                            |\n",
      "|  GPU   GI   CI        PID   Type   Process name                            GPU Memory |\n",
      "|        ID   ID                                                             Usage      |\n",
      "|=======================================================================================|\n",
      "+---------------------------------------------------------------------------------------+\n"
     ]
    }
   ],
   "source": [
    "!nvidia-smi"
   ]
  },
  {
   "cell_type": "code",
   "execution_count": 10,
   "id": "ccf293fa",
   "metadata": {},
   "outputs": [],
   "source": [
    "nci_data_test = nci_data.sample(frac = 0.01, random_state = 0)\n",
    "nci_data_train = pd.concat([nci_data, nci_data_test], axis = 0).drop_duplicates(keep=False)"
   ]
  },
  {
   "cell_type": "code",
   "execution_count": 11,
   "id": "4656afd5",
   "metadata": {
    "scrolled": true
   },
   "outputs": [
    {
     "data": {
      "text/plain": [
       "<Axes: >"
      ]
     },
     "execution_count": 11,
     "metadata": {},
     "output_type": "execute_result"
    },
    {
     "data": {
      "image/png": "[encoded data removed]",
      "text/plain": [
       "<Figure size 640x480 with 1 Axes>"
      ]
     },
     "metadata": {},
     "output_type": "display_data"
    }
   ],
   "source": [
    "nci_data_test['auc'].hist()"
   ]
  },
  {
   "cell_type": "code",
   "execution_count": 12,
   "id": "69475115",
   "metadata": {},
   "outputs": [
    {
     "data": {
      "text/plain": [
       "<Axes: >"
      ]
     },
     "execution_count": 12,
     "metadata": {},
     "output_type": "execute_result"
    },
    {
     "data": {
      "image/png": "[encoded data removed]",
      "text/plain": [
       "<Figure size 640x480 with 1 Axes>"
      ]
     },
     "metadata": {},
     "output_type": "display_data"
    }
   ],
   "source": [
    "nci_data_train['auc'].hist()"
   ]
  },
  {
   "cell_type": "markdown",
   "id": "0ab946e4",
   "metadata": {},
   "source": [
    "## Cell Result only shows single repeat, repeat = 0"
   ]
  },
  {
   "cell_type": "code",
   "execution_count": 13,
   "id": "705378d8-7619-4508-a2f5-7bfe0e9bcddd",
   "metadata": {
    "tags": []
   },
   "outputs": [
    {
     "name": "stdout",
     "output_type": "stream",
     "text": [
      "Random seed set as 0\n",
      "NeST neighbor info is used\n",
      "Epoch: 0\n"
     ]
    },
    {
     "name": "stderr",
     "output_type": "stream",
     "text": [
      "100%|██████████| 6214/6214 [18:04<00:00,  5.73it/s]\n",
      "100%|██████████| 63/63 [00:06<00:00,  9.18it/s]\n"
     ]
    },
    {
     "name": "stdout",
     "output_type": "stream",
     "text": [
      "0.17283747 0.09861859497153436 0.46447653375430353\n",
      "Epoch: 1\n"
     ]
    },
    {
     "name": "stderr",
     "output_type": "stream",
     "text": [
      "100%|██████████| 6214/6214 [18:04<00:00,  5.73it/s]\n",
      "100%|██████████| 63/63 [00:06<00:00,  9.27it/s]\n"
     ]
    },
    {
     "name": "stdout",
     "output_type": "stream",
     "text": [
      "0.16876274 0.14061853843155492 0.5001168372925717\n",
      "Epoch: 2\n"
     ]
    },
    {
     "name": "stderr",
     "output_type": "stream",
     "text": [
      "100%|██████████| 6214/6214 [18:04<00:00,  5.73it/s]\n",
      "100%|██████████| 63/63 [00:06<00:00,  9.47it/s]\n"
     ]
    },
    {
     "name": "stdout",
     "output_type": "stream",
     "text": [
      "0.16073602 0.22042250945333952 0.5346854780172482\n",
      "Epoch: 3\n"
     ]
    },
    {
     "name": "stderr",
     "output_type": "stream",
     "text": [
      "100%|██████████| 6214/6214 [18:07<00:00,  5.71it/s]\n",
      "100%|██████████| 63/63 [00:06<00:00,  9.38it/s]\n"
     ]
    },
    {
     "name": "stdout",
     "output_type": "stream",
     "text": [
      "0.15905154 0.23667674688284868 0.5543770887445818\n",
      "Epoch: 4\n"
     ]
    },
    {
     "name": "stderr",
     "output_type": "stream",
     "text": [
      "100%|██████████| 6214/6214 [18:04<00:00,  5.73it/s]\n",
      "100%|██████████| 63/63 [00:06<00:00,  9.35it/s]\n"
     ]
    },
    {
     "name": "stdout",
     "output_type": "stream",
     "text": [
      "0.15345253 0.28947240182984146 0.5785710709632597\n",
      "Epoch: 5\n"
     ]
    },
    {
     "name": "stderr",
     "output_type": "stream",
     "text": [
      "100%|██████████| 6214/6214 [18:04<00:00,  5.73it/s]\n",
      "100%|██████████| 63/63 [00:06<00:00,  9.07it/s]\n"
     ]
    },
    {
     "name": "stdout",
     "output_type": "stream",
     "text": [
      "0.15219021 0.30111415401785235 0.5994916000369819\n",
      "Epoch: 6\n"
     ]
    },
    {
     "name": "stderr",
     "output_type": "stream",
     "text": [
      "100%|██████████| 6214/6214 [18:04<00:00,  5.73it/s]\n",
      "100%|██████████| 63/63 [00:06<00:00,  9.24it/s]\n"
     ]
    },
    {
     "name": "stdout",
     "output_type": "stream",
     "text": [
      "0.1458792 0.3578751767789302 0.6265472860787793\n",
      "Epoch: 7\n"
     ]
    },
    {
     "name": "stderr",
     "output_type": "stream",
     "text": [
      "100%|██████████| 6214/6214 [18:04<00:00,  5.73it/s]\n",
      "100%|██████████| 63/63 [00:06<00:00,  9.27it/s]\n"
     ]
    },
    {
     "name": "stdout",
     "output_type": "stream",
     "text": [
      "0.14453432 0.36966007456992955 0.6433842415118253\n",
      "Epoch: 8\n"
     ]
    },
    {
     "name": "stderr",
     "output_type": "stream",
     "text": [
      "100%|██████████| 6214/6214 [18:04<00:00,  5.73it/s]\n",
      "100%|██████████| 63/63 [00:06<00:00,  9.24it/s]\n"
     ]
    },
    {
     "name": "stdout",
     "output_type": "stream",
     "text": [
      "0.14031965 0.4058859538674592 0.6592520670788072\n",
      "Epoch: 9\n"
     ]
    },
    {
     "name": "stderr",
     "output_type": "stream",
     "text": [
      "100%|██████████| 6214/6214 [18:04<00:00,  5.73it/s]\n",
      "100%|██████████| 63/63 [00:06<00:00,  9.31it/s]\n"
     ]
    },
    {
     "name": "stdout",
     "output_type": "stream",
     "text": [
      "0.13835573 0.42240016407901193 0.6749827619826967\n",
      "Epoch: 10\n"
     ]
    },
    {
     "name": "stderr",
     "output_type": "stream",
     "text": [
      "100%|██████████| 6214/6214 [18:05<00:00,  5.73it/s]\n",
      "100%|██████████| 63/63 [00:06<00:00,  9.32it/s]\n"
     ]
    },
    {
     "name": "stdout",
     "output_type": "stream",
     "text": [
      "0.13396572 0.4584729394133503 0.6913769693387821\n",
      "Epoch: 11\n"
     ]
    },
    {
     "name": "stderr",
     "output_type": "stream",
     "text": [
      "100%|██████████| 6214/6214 [18:07<00:00,  5.72it/s]\n",
      "100%|██████████| 63/63 [00:06<00:00,  9.17it/s]\n"
     ]
    },
    {
     "name": "stdout",
     "output_type": "stream",
     "text": [
      "0.13262013 0.46929676089979955 0.7035174868969656\n",
      "Epoch: 12\n"
     ]
    },
    {
     "name": "stderr",
     "output_type": "stream",
     "text": [
      "100%|██████████| 6214/6214 [18:07<00:00,  5.71it/s]\n",
      "100%|██████████| 63/63 [00:06<00:00,  9.21it/s]\n"
     ]
    },
    {
     "name": "stdout",
     "output_type": "stream",
     "text": [
      "0.12938319 0.4948870300736169 0.718042494035967\n",
      "Epoch: 13\n"
     ]
    },
    {
     "name": "stderr",
     "output_type": "stream",
     "text": [
      "100%|██████████| 6214/6214 [18:07<00:00,  5.71it/s]\n",
      "100%|██████████| 63/63 [00:06<00:00,  9.17it/s]\n"
     ]
    },
    {
     "name": "stdout",
     "output_type": "stream",
     "text": [
      "0.12694134 0.5137730787290695 0.7287019576627887\n",
      "Epoch: 14\n"
     ]
    },
    {
     "name": "stderr",
     "output_type": "stream",
     "text": [
      "100%|██████████| 6214/6214 [18:06<00:00,  5.72it/s]\n",
      "100%|██████████| 63/63 [00:06<00:00,  9.21it/s]\n"
     ]
    },
    {
     "name": "stdout",
     "output_type": "stream",
     "text": [
      "0.124620855 0.5313870495443461 0.7396677875611866\n",
      "Epoch: 15\n"
     ]
    },
    {
     "name": "stderr",
     "output_type": "stream",
     "text": [
      "100%|██████████| 6214/6214 [18:07<00:00,  5.72it/s]\n",
      "100%|██████████| 63/63 [00:06<00:00,  9.15it/s]\n"
     ]
    },
    {
     "name": "stdout",
     "output_type": "stream",
     "text": [
      "0.12267696 0.5458923519956433 0.7488144905729612\n",
      "Epoch: 16\n"
     ]
    },
    {
     "name": "stderr",
     "output_type": "stream",
     "text": [
      "100%|██████████| 6214/6214 [18:09<00:00,  5.70it/s]\n",
      "100%|██████████| 63/63 [00:06<00:00,  9.21it/s]\n"
     ]
    },
    {
     "name": "stdout",
     "output_type": "stream",
     "text": [
      "0.12121934 0.5566194685056469 0.7565911020520083\n",
      "Epoch: 17\n"
     ]
    },
    {
     "name": "stderr",
     "output_type": "stream",
     "text": [
      "100%|██████████| 6214/6214 [18:06<00:00,  5.72it/s]\n",
      "100%|██████████| 63/63 [00:06<00:00,  9.15it/s]\n"
     ]
    },
    {
     "name": "stdout",
     "output_type": "stream",
     "text": [
      "0.119711176 0.5675835472159951 0.764594584380878\n",
      "Epoch: 18\n"
     ]
    },
    {
     "name": "stderr",
     "output_type": "stream",
     "text": [
      "100%|██████████| 6214/6214 [18:07<00:00,  5.71it/s]\n",
      "100%|██████████| 63/63 [00:06<00:00,  9.24it/s]\n"
     ]
    },
    {
     "name": "stdout",
     "output_type": "stream",
     "text": [
      "0.11759025 0.5827700984571238 0.7708030686981607\n",
      "Epoch: 19\n"
     ]
    },
    {
     "name": "stderr",
     "output_type": "stream",
     "text": [
      "100%|██████████| 6214/6214 [18:08<00:00,  5.71it/s]\n",
      "100%|██████████| 63/63 [00:06<00:00,  9.02it/s]\n"
     ]
    },
    {
     "name": "stdout",
     "output_type": "stream",
     "text": [
      "0.11717572 0.5857065560830252 0.7770487026535561\n",
      "Epoch: 20\n"
     ]
    },
    {
     "name": "stderr",
     "output_type": "stream",
     "text": [
      "100%|██████████| 6214/6214 [18:07<00:00,  5.72it/s]\n",
      "100%|██████████| 63/63 [00:06<00:00,  9.03it/s]\n"
     ]
    },
    {
     "name": "stdout",
     "output_type": "stream",
     "text": [
      "0.115633585 0.5965396853547713 0.7813983564722133\n",
      "Epoch: 21\n"
     ]
    },
    {
     "name": "stderr",
     "output_type": "stream",
     "text": [
      "100%|██████████| 6214/6214 [18:07<00:00,  5.72it/s]\n",
      "100%|██████████| 63/63 [00:06<00:00,  9.22it/s]\n"
     ]
    },
    {
     "name": "stdout",
     "output_type": "stream",
     "text": [
      "0.11481034 0.6022640690266462 0.785875583011923\n",
      "Epoch: 22\n"
     ]
    },
    {
     "name": "stderr",
     "output_type": "stream",
     "text": [
      "100%|██████████| 6214/6214 [18:07<00:00,  5.72it/s]\n",
      "100%|██████████| 63/63 [00:06<00:00,  9.03it/s]\n"
     ]
    },
    {
     "name": "stdout",
     "output_type": "stream",
     "text": [
      "0.11361027 0.6105354273656367 0.7912788382799698\n",
      "Epoch: 23\n"
     ]
    },
    {
     "name": "stderr",
     "output_type": "stream",
     "text": [
      "100%|██████████| 6214/6214 [18:06<00:00,  5.72it/s]\n",
      "100%|██████████| 63/63 [00:06<00:00,  9.15it/s]\n"
     ]
    },
    {
     "name": "stdout",
     "output_type": "stream",
     "text": [
      "0.11404213 0.607568846029783 0.7923284746710206\n",
      "Epoch: 24\n"
     ]
    },
    {
     "name": "stderr",
     "output_type": "stream",
     "text": [
      "100%|██████████| 6214/6214 [18:07<00:00,  5.72it/s]\n",
      "100%|██████████| 63/63 [00:06<00:00,  9.04it/s]\n"
     ]
    },
    {
     "name": "stdout",
     "output_type": "stream",
     "text": [
      "0.11215362 0.6204584061015641 0.7960456059584282\n",
      "Epoch: 25\n"
     ]
    },
    {
     "name": "stderr",
     "output_type": "stream",
     "text": [
      "100%|██████████| 6214/6214 [18:07<00:00,  5.72it/s]\n",
      "100%|██████████| 63/63 [00:06<00:00,  9.13it/s]\n"
     ]
    },
    {
     "name": "stdout",
     "output_type": "stream",
     "text": [
      "0.111813165 0.6227591731398081 0.7990494176793236\n",
      "Epoch: 26\n"
     ]
    },
    {
     "name": "stderr",
     "output_type": "stream",
     "text": [
      "100%|██████████| 6214/6214 [18:06<00:00,  5.72it/s]\n",
      "100%|██████████| 63/63 [00:06<00:00,  9.14it/s]\n"
     ]
    },
    {
     "name": "stdout",
     "output_type": "stream",
     "text": [
      "0.11093569 0.6286568733291739 0.8029926263408617\n",
      "Epoch: 27\n"
     ]
    },
    {
     "name": "stderr",
     "output_type": "stream",
     "text": [
      "100%|██████████| 6214/6214 [18:06<00:00,  5.72it/s]\n",
      "100%|██████████| 63/63 [00:06<00:00,  9.07it/s]\n"
     ]
    },
    {
     "name": "stdout",
     "output_type": "stream",
     "text": [
      "0.11092609 0.6287211158897013 0.8051902564393244\n",
      "Epoch: 28\n"
     ]
    },
    {
     "name": "stderr",
     "output_type": "stream",
     "text": [
      "100%|██████████| 6214/6214 [18:06<00:00,  5.72it/s]\n",
      "100%|██████████| 63/63 [00:06<00:00,  9.22it/s]\n"
     ]
    },
    {
     "name": "stdout",
     "output_type": "stream",
     "text": [
      "0.10976609 0.636445804467324 0.8064336593309304\n",
      "Epoch: 29\n"
     ]
    },
    {
     "name": "stderr",
     "output_type": "stream",
     "text": [
      "100%|██████████| 6214/6214 [18:07<00:00,  5.71it/s]\n",
      "100%|██████████| 63/63 [00:06<00:00,  9.20it/s]\n"
     ]
    },
    {
     "name": "stdout",
     "output_type": "stream",
     "text": [
      "0.10882029 0.6426838859264874 0.8094708643952937\n",
      "Epoch: 30\n"
     ]
    },
    {
     "name": "stderr",
     "output_type": "stream",
     "text": [
      "100%|██████████| 6214/6214 [18:07<00:00,  5.71it/s]\n",
      "100%|██████████| 63/63 [00:06<00:00,  9.14it/s]\n"
     ]
    },
    {
     "name": "stdout",
     "output_type": "stream",
     "text": [
      "0.1079191 0.6485776132883843 0.8139189998425919\n",
      "Epoch: 31\n"
     ]
    },
    {
     "name": "stderr",
     "output_type": "stream",
     "text": [
      "100%|██████████| 6214/6214 [18:07<00:00,  5.71it/s]\n",
      "100%|██████████| 63/63 [00:06<00:00,  9.10it/s]\n"
     ]
    },
    {
     "name": "stdout",
     "output_type": "stream",
     "text": [
      "0.10798508 0.6481477561006024 0.8147578797172936\n",
      "Epoch: 32\n"
     ]
    },
    {
     "name": "stderr",
     "output_type": "stream",
     "text": [
      "100%|██████████| 6214/6214 [18:07<00:00,  5.72it/s]\n",
      "100%|██████████| 63/63 [00:07<00:00,  8.98it/s]\n"
     ]
    },
    {
     "name": "stdout",
     "output_type": "stream",
     "text": [
      "0.107256085 0.6528823571988117 0.81575203098631\n",
      "Epoch: 33\n"
     ]
    },
    {
     "name": "stderr",
     "output_type": "stream",
     "text": [
      "100%|██████████| 6214/6214 [18:07<00:00,  5.72it/s]\n",
      "100%|██████████| 63/63 [00:06<00:00,  9.10it/s]\n"
     ]
    },
    {
     "name": "stdout",
     "output_type": "stream",
     "text": [
      "0.10746805 0.6515090151360099 0.8163436729920204\n",
      "Epoch: 34\n"
     ]
    },
    {
     "name": "stderr",
     "output_type": "stream",
     "text": [
      "100%|██████████| 6214/6214 [18:07<00:00,  5.72it/s]\n",
      "100%|██████████| 63/63 [00:06<00:00,  9.08it/s]\n"
     ]
    },
    {
     "name": "stdout",
     "output_type": "stream",
     "text": [
      "0.106308244 0.6589903282316514 0.8187086570282861\n",
      "Epoch: 35\n"
     ]
    },
    {
     "name": "stderr",
     "output_type": "stream",
     "text": [
      "100%|██████████| 6214/6214 [18:07<00:00,  5.72it/s]\n",
      "100%|██████████| 63/63 [00:06<00:00,  9.01it/s]\n"
     ]
    },
    {
     "name": "stdout",
     "output_type": "stream",
     "text": [
      "0.10749884 0.6513093024467815 0.819827188484167\n",
      "Epoch: 36\n"
     ]
    },
    {
     "name": "stderr",
     "output_type": "stream",
     "text": [
      "100%|██████████| 6214/6214 [18:07<00:00,  5.72it/s]\n",
      "100%|██████████| 63/63 [00:06<00:00,  9.24it/s]\n"
     ]
    },
    {
     "name": "stdout",
     "output_type": "stream",
     "text": [
      "0.10567641 0.6630318028047839 0.8226876608750994\n",
      "Epoch: 37\n"
     ]
    },
    {
     "name": "stderr",
     "output_type": "stream",
     "text": [
      "100%|██████████| 6214/6214 [18:07<00:00,  5.72it/s]\n",
      "100%|██████████| 63/63 [00:06<00:00,  9.37it/s]\n"
     ]
    },
    {
     "name": "stdout",
     "output_type": "stream",
     "text": [
      "0.105446406 0.6644970574721091 0.8223310964216086\n",
      "Epoch: 38\n"
     ]
    },
    {
     "name": "stderr",
     "output_type": "stream",
     "text": [
      "100%|██████████| 6214/6214 [18:07<00:00,  5.72it/s]\n",
      "100%|██████████| 63/63 [00:06<00:00,  9.24it/s]\n"
     ]
    },
    {
     "name": "stdout",
     "output_type": "stream",
     "text": [
      "0.105145514 0.6664090308499269 0.8239391676018246\n",
      "Epoch: 39\n"
     ]
    },
    {
     "name": "stderr",
     "output_type": "stream",
     "text": [
      "100%|██████████| 6214/6214 [18:07<00:00,  5.72it/s]\n",
      "100%|██████████| 63/63 [00:06<00:00,  9.20it/s]\n"
     ]
    },
    {
     "name": "stdout",
     "output_type": "stream",
     "text": [
      "0.10551531 0.6640584325388474 0.824856677933825\n",
      "Epoch: 40\n"
     ]
    },
    {
     "name": "stderr",
     "output_type": "stream",
     "text": [
      "100%|██████████| 6214/6214 [18:06<00:00,  5.72it/s]\n",
      "100%|██████████| 63/63 [00:06<00:00,  9.14it/s]\n"
     ]
    },
    {
     "name": "stdout",
     "output_type": "stream",
     "text": [
      "0.10539907 0.6647981812059125 0.8268341831288086\n",
      "Epoch: 41\n"
     ]
    },
    {
     "name": "stderr",
     "output_type": "stream",
     "text": [
      "100%|██████████| 6214/6214 [18:06<00:00,  5.72it/s]\n",
      "100%|██████████| 63/63 [00:07<00:00,  8.94it/s]\n"
     ]
    },
    {
     "name": "stdout",
     "output_type": "stream",
     "text": [
      "0.10540523 0.6647590264893738 0.8265917496903661\n",
      "Epoch: 42\n"
     ]
    },
    {
     "name": "stderr",
     "output_type": "stream",
     "text": [
      "100%|██████████| 6214/6214 [18:06<00:00,  5.72it/s]\n",
      "100%|██████████| 63/63 [00:06<00:00,  9.20it/s]\n"
     ]
    },
    {
     "name": "stdout",
     "output_type": "stream",
     "text": [
      "0.103819385 0.6747706378856807 0.8290714544237131\n",
      "Epoch: 43\n"
     ]
    },
    {
     "name": "stderr",
     "output_type": "stream",
     "text": [
      "100%|██████████| 6214/6214 [18:07<00:00,  5.72it/s]\n",
      "100%|██████████| 63/63 [00:06<00:00,  9.21it/s]\n"
     ]
    },
    {
     "name": "stdout",
     "output_type": "stream",
     "text": [
      "0.10351445 0.6766783593669116 0.8296200758942179\n",
      "Epoch: 44\n"
     ]
    },
    {
     "name": "stderr",
     "output_type": "stream",
     "text": [
      "100%|██████████| 6214/6214 [18:06<00:00,  5.72it/s]\n",
      "100%|██████████| 63/63 [00:06<00:00,  9.28it/s]\n"
     ]
    },
    {
     "name": "stdout",
     "output_type": "stream",
     "text": [
      "0.1042774 0.6718947327702427 0.8308087506200212\n",
      "Epoch: 45\n"
     ]
    },
    {
     "name": "stderr",
     "output_type": "stream",
     "text": [
      "100%|██████████| 6214/6214 [18:06<00:00,  5.72it/s]\n",
      "100%|██████████| 63/63 [00:06<00:00,  9.27it/s]\n"
     ]
    },
    {
     "name": "stdout",
     "output_type": "stream",
     "text": [
      "0.10412532 0.6728510852001319 0.8312018317989999\n",
      "Epoch: 46\n"
     ]
    },
    {
     "name": "stderr",
     "output_type": "stream",
     "text": [
      "100%|██████████| 6214/6214 [18:06<00:00,  5.72it/s]\n",
      "100%|██████████| 63/63 [00:06<00:00,  9.19it/s]\n"
     ]
    },
    {
     "name": "stdout",
     "output_type": "stream",
     "text": [
      "0.103739515 0.6752708819749733 0.8319041493140353\n",
      "Epoch: 47\n"
     ]
    },
    {
     "name": "stderr",
     "output_type": "stream",
     "text": [
      "100%|██████████| 6214/6214 [18:06<00:00,  5.72it/s]\n",
      "100%|██████████| 63/63 [00:06<00:00,  9.14it/s]\n"
     ]
    },
    {
     "name": "stdout",
     "output_type": "stream",
     "text": [
      "0.10446617 0.6707057345588547 0.8316113524115538\n",
      "Epoch: 48\n"
     ]
    },
    {
     "name": "stderr",
     "output_type": "stream",
     "text": [
      "100%|██████████| 6214/6214 [18:07<00:00,  5.72it/s]\n",
      "100%|██████████| 63/63 [00:06<00:00,  9.24it/s]\n"
     ]
    },
    {
     "name": "stdout",
     "output_type": "stream",
     "text": [
      "0.103024095 0.679734300666893 0.8343983404014962\n",
      "Epoch: 49\n"
     ]
    },
    {
     "name": "stderr",
     "output_type": "stream",
     "text": [
      "100%|██████████| 6214/6214 [18:06<00:00,  5.72it/s]\n",
      "100%|██████████| 63/63 [00:06<00:00,  9.16it/s]\n"
     ]
    },
    {
     "name": "stdout",
     "output_type": "stream",
     "text": [
      "0.10349471 0.6768016549468052 0.8350445737709933\n",
      "Epoch: 50\n"
     ]
    },
    {
     "name": "stderr",
     "output_type": "stream",
     "text": [
      "100%|██████████| 6214/6214 [18:06<00:00,  5.72it/s]\n",
      "100%|██████████| 63/63 [00:06<00:00,  9.32it/s]\n"
     ]
    },
    {
     "name": "stdout",
     "output_type": "stream",
     "text": [
      "0.102280416 0.6843412360572476 0.834316219229959\n",
      "Epoch: 51\n"
     ]
    },
    {
     "name": "stderr",
     "output_type": "stream",
     "text": [
      "100%|██████████| 6214/6214 [18:07<00:00,  5.72it/s]\n",
      "100%|██████████| 63/63 [00:06<00:00,  9.18it/s]\n"
     ]
    },
    {
     "name": "stdout",
     "output_type": "stream",
     "text": [
      "0.10269183 0.6817967552694983 0.8361550830264535\n",
      "Epoch: 52\n"
     ]
    },
    {
     "name": "stderr",
     "output_type": "stream",
     "text": [
      "100%|██████████| 6214/6214 [18:07<00:00,  5.72it/s]\n",
      "100%|██████████| 63/63 [00:06<00:00,  9.30it/s]\n"
     ]
    },
    {
     "name": "stdout",
     "output_type": "stream",
     "text": [
      "0.10254201 0.6827245490028113 0.8363995511036116\n",
      "Epoch: 53\n"
     ]
    },
    {
     "name": "stderr",
     "output_type": "stream",
     "text": [
      "100%|██████████| 6214/6214 [18:06<00:00,  5.72it/s]\n",
      "100%|██████████| 63/63 [00:06<00:00,  9.31it/s]\n"
     ]
    },
    {
     "name": "stdout",
     "output_type": "stream",
     "text": [
      "0.10242981 0.6834185087592355 0.8364017330959533\n",
      "Epoch: 54\n"
     ]
    },
    {
     "name": "stderr",
     "output_type": "stream",
     "text": [
      "100%|██████████| 6214/6214 [18:06<00:00,  5.72it/s]\n",
      "100%|██████████| 63/63 [00:06<00:00,  9.32it/s]\n"
     ]
    },
    {
     "name": "stdout",
     "output_type": "stream",
     "text": [
      "0.10191469 0.6865946843337084 0.8381828655169417\n",
      "Epoch: 55\n"
     ]
    },
    {
     "name": "stderr",
     "output_type": "stream",
     "text": [
      "100%|██████████| 6214/6214 [18:06<00:00,  5.72it/s]\n",
      "100%|██████████| 63/63 [00:06<00:00,  9.26it/s]\n"
     ]
    },
    {
     "name": "stdout",
     "output_type": "stream",
     "text": [
      "0.1017496 0.687609222657215 0.8388083207142223\n",
      "Epoch: 56\n"
     ]
    },
    {
     "name": "stderr",
     "output_type": "stream",
     "text": [
      "100%|██████████| 6214/6214 [18:06<00:00,  5.72it/s]\n",
      "100%|██████████| 63/63 [00:06<00:00,  9.18it/s]\n"
     ]
    },
    {
     "name": "stdout",
     "output_type": "stream",
     "text": [
      "0.10296304 0.6801138223363903 0.838187612997788\n",
      "Epoch: 57\n"
     ]
    },
    {
     "name": "stderr",
     "output_type": "stream",
     "text": [
      "100%|██████████| 6214/6214 [18:06<00:00,  5.72it/s]\n",
      "100%|██████████| 63/63 [00:06<00:00,  9.27it/s]\n"
     ]
    },
    {
     "name": "stdout",
     "output_type": "stream",
     "text": [
      "0.1015269 0.6889751555456247 0.8388512298910598\n",
      "Epoch: 58\n"
     ]
    },
    {
     "name": "stderr",
     "output_type": "stream",
     "text": [
      "100%|██████████| 6214/6214 [18:06<00:00,  5.72it/s]\n",
      "100%|██████████| 63/63 [00:06<00:00,  9.25it/s]\n"
     ]
    },
    {
     "name": "stdout",
     "output_type": "stream",
     "text": [
      "0.10140396 0.689727991662404 0.8404116487606512\n",
      "Epoch: 59\n"
     ]
    },
    {
     "name": "stderr",
     "output_type": "stream",
     "text": [
      "100%|██████████| 6214/6214 [18:06<00:00,  5.72it/s]\n",
      "100%|██████████| 63/63 [00:06<00:00,  9.28it/s]\n"
     ]
    },
    {
     "name": "stdout",
     "output_type": "stream",
     "text": [
      "0.1026233 0.6822213082650787 0.8383639457706676\n",
      "Epoch: 60\n"
     ]
    },
    {
     "name": "stderr",
     "output_type": "stream",
     "text": [
      "100%|██████████| 6214/6214 [18:07<00:00,  5.72it/s]\n",
      "100%|██████████| 63/63 [00:06<00:00,  9.15it/s]\n"
     ]
    },
    {
     "name": "stdout",
     "output_type": "stream",
     "text": [
      "0.10197128 0.6862465444042256 0.8398296976454624\n",
      "Epoch: 61\n"
     ]
    },
    {
     "name": "stderr",
     "output_type": "stream",
     "text": [
      "100%|██████████| 6214/6214 [18:06<00:00,  5.72it/s]\n",
      "100%|██████████| 63/63 [00:06<00:00,  9.16it/s]\n"
     ]
    },
    {
     "name": "stdout",
     "output_type": "stream",
     "text": [
      "0.101368524 0.6899447553395428 0.8407752232239697\n",
      "Epoch: 62\n"
     ]
    },
    {
     "name": "stderr",
     "output_type": "stream",
     "text": [
      "100%|██████████| 6214/6214 [18:06<00:00,  5.72it/s]\n",
      "100%|██████████| 63/63 [00:06<00:00,  9.20it/s]\n"
     ]
    },
    {
     "name": "stdout",
     "output_type": "stream",
     "text": [
      "0.101521015 0.6890112305627284 0.841686837777244\n",
      "Epoch: 63\n"
     ]
    },
    {
     "name": "stderr",
     "output_type": "stream",
     "text": [
      "100%|██████████| 6214/6214 [18:07<00:00,  5.72it/s]\n",
      "100%|██████████| 63/63 [00:06<00:00,  9.05it/s]\n"
     ]
    },
    {
     "name": "stdout",
     "output_type": "stream",
     "text": [
      "0.10059788 0.6946411718054226 0.8421371406035104\n",
      "Epoch: 64\n"
     ]
    },
    {
     "name": "stderr",
     "output_type": "stream",
     "text": [
      "100%|██████████| 6214/6214 [18:07<00:00,  5.72it/s]\n",
      "100%|██████████| 63/63 [00:06<00:00,  9.31it/s]\n"
     ]
    },
    {
     "name": "stdout",
     "output_type": "stream",
     "text": [
      "0.1014638 0.6893616389792772 0.8411173356601561\n",
      "Epoch: 65\n"
     ]
    },
    {
     "name": "stderr",
     "output_type": "stream",
     "text": [
      "100%|██████████| 6214/6214 [18:06<00:00,  5.72it/s]\n",
      "100%|██████████| 63/63 [00:06<00:00,  9.06it/s]\n"
     ]
    },
    {
     "name": "stdout",
     "output_type": "stream",
     "text": [
      "0.101776496 0.6874440293887834 0.8419959612313078\n",
      "Epoch: 66\n"
     ]
    },
    {
     "name": "stderr",
     "output_type": "stream",
     "text": [
      "100%|██████████| 6214/6214 [18:06<00:00,  5.72it/s]\n",
      "100%|██████████| 63/63 [00:06<00:00,  9.22it/s]\n"
     ]
    },
    {
     "name": "stdout",
     "output_type": "stream",
     "text": [
      "0.10150341 0.6891190733917396 0.8422561960149839\n",
      "Epoch: 67\n"
     ]
    },
    {
     "name": "stderr",
     "output_type": "stream",
     "text": [
      "100%|██████████| 6214/6214 [18:07<00:00,  5.72it/s]\n",
      "100%|██████████| 63/63 [00:06<00:00,  9.38it/s]\n"
     ]
    },
    {
     "name": "stdout",
     "output_type": "stream",
     "text": [
      "0.10091285 0.6927260887460848 0.8430360905883267\n",
      "Epoch: 68\n"
     ]
    },
    {
     "name": "stderr",
     "output_type": "stream",
     "text": [
      "100%|██████████| 6214/6214 [18:06<00:00,  5.72it/s]\n",
      "100%|██████████| 63/63 [00:06<00:00,  9.11it/s]\n"
     ]
    },
    {
     "name": "stdout",
     "output_type": "stream",
     "text": [
      "0.100378454 0.6959718723983718 0.8434539443669465\n",
      "Epoch: 69\n"
     ]
    },
    {
     "name": "stderr",
     "output_type": "stream",
     "text": [
      "100%|██████████| 6214/6214 [18:06<00:00,  5.72it/s]\n",
      "100%|██████████| 63/63 [00:06<00:00,  9.11it/s]\n"
     ]
    },
    {
     "name": "stdout",
     "output_type": "stream",
     "text": [
      "0.10123429 0.6907654218371981 0.8425859966981241\n",
      "Epoch: 70\n"
     ]
    },
    {
     "name": "stderr",
     "output_type": "stream",
     "text": [
      "100%|██████████| 6214/6214 [18:06<00:00,  5.72it/s]\n",
      "100%|██████████| 63/63 [00:06<00:00,  9.28it/s]\n"
     ]
    },
    {
     "name": "stdout",
     "output_type": "stream",
     "text": [
      "0.10008323 0.6977575199802573 0.8440404939848153\n",
      "Epoch: 71\n"
     ]
    },
    {
     "name": "stderr",
     "output_type": "stream",
     "text": [
      "100%|██████████| 6214/6214 [18:07<00:00,  5.72it/s]\n",
      "100%|██████████| 63/63 [00:06<00:00,  9.27it/s]\n"
     ]
    },
    {
     "name": "stdout",
     "output_type": "stream",
     "text": [
      "0.1000952 0.6976852799279023 0.8453927787660338\n",
      "Epoch: 72\n"
     ]
    },
    {
     "name": "stderr",
     "output_type": "stream",
     "text": [
      "100%|██████████| 6214/6214 [18:06<00:00,  5.72it/s]\n",
      "100%|██████████| 63/63 [00:06<00:00,  9.16it/s]\n"
     ]
    },
    {
     "name": "stdout",
     "output_type": "stream",
     "text": [
      "0.10006844 0.6978468981344563 0.8449132213150753\n",
      "Epoch: 73\n"
     ]
    },
    {
     "name": "stderr",
     "output_type": "stream",
     "text": [
      "100%|██████████| 6214/6214 [18:07<00:00,  5.72it/s]\n",
      "100%|██████████| 63/63 [00:06<00:00,  9.09it/s]\n"
     ]
    },
    {
     "name": "stdout",
     "output_type": "stream",
     "text": [
      "0.10080708 0.693369848956716 0.8450428272337913\n",
      "Epoch: 74\n"
     ]
    },
    {
     "name": "stderr",
     "output_type": "stream",
     "text": [
      "100%|██████████| 6214/6214 [18:07<00:00,  5.72it/s]\n",
      "100%|██████████| 63/63 [00:06<00:00,  9.30it/s]\n"
     ]
    },
    {
     "name": "stdout",
     "output_type": "stream",
     "text": [
      "0.09985967 0.6991063486931435 0.8456570802402456\n",
      "Epoch: 75\n"
     ]
    },
    {
     "name": "stderr",
     "output_type": "stream",
     "text": [
      "100%|██████████| 6214/6214 [18:07<00:00,  5.72it/s]\n",
      "100%|██████████| 63/63 [00:06<00:00,  9.29it/s]\n"
     ]
    },
    {
     "name": "stdout",
     "output_type": "stream",
     "text": [
      "0.10028097 0.696562047077919 0.8462257541466999\n",
      "Epoch: 76\n"
     ]
    },
    {
     "name": "stderr",
     "output_type": "stream",
     "text": [
      "100%|██████████| 6214/6214 [18:07<00:00,  5.72it/s]\n",
      "100%|██████████| 63/63 [00:06<00:00,  9.28it/s]\n"
     ]
    },
    {
     "name": "stdout",
     "output_type": "stream",
     "text": [
      "0.09997436 0.6984148115389133 0.8469829613791778\n",
      "Epoch: 77\n"
     ]
    },
    {
     "name": "stderr",
     "output_type": "stream",
     "text": [
      "100%|██████████| 6214/6214 [18:06<00:00,  5.72it/s]\n",
      "100%|██████████| 63/63 [00:06<00:00,  9.07it/s]\n"
     ]
    },
    {
     "name": "stdout",
     "output_type": "stream",
     "text": [
      "0.09964248 0.7004137509995891 0.847307390886209\n",
      "Epoch: 78\n"
     ]
    },
    {
     "name": "stderr",
     "output_type": "stream",
     "text": [
      "100%|██████████| 6214/6214 [18:06<00:00,  5.72it/s]\n",
      "100%|██████████| 63/63 [00:06<00:00,  9.13it/s]\n"
     ]
    },
    {
     "name": "stdout",
     "output_type": "stream",
     "text": [
      "0.10003912 0.6980239596755924 0.8470866496594704\n",
      "Epoch: 79\n"
     ]
    },
    {
     "name": "stderr",
     "output_type": "stream",
     "text": [
      "100%|██████████| 6214/6214 [18:06<00:00,  5.72it/s]\n",
      "100%|██████████| 63/63 [00:06<00:00,  9.15it/s]\n"
     ]
    },
    {
     "name": "stdout",
     "output_type": "stream",
     "text": [
      "0.099549614 0.7009719127127869 0.846925626722843\n",
      "Epoch: 80\n"
     ]
    },
    {
     "name": "stderr",
     "output_type": "stream",
     "text": [
      "100%|██████████| 6214/6214 [18:07<00:00,  5.72it/s]\n",
      "100%|██████████| 63/63 [00:06<00:00,  9.13it/s]\n"
     ]
    },
    {
     "name": "stdout",
     "output_type": "stream",
     "text": [
      "0.09982607 0.6993088012612461 0.8475580829928152\n",
      "Epoch: 81\n"
     ]
    },
    {
     "name": "stderr",
     "output_type": "stream",
     "text": [
      "100%|██████████| 6214/6214 [18:06<00:00,  5.72it/s]\n",
      "100%|██████████| 63/63 [00:06<00:00,  9.10it/s]\n"
     ]
    },
    {
     "name": "stdout",
     "output_type": "stream",
     "text": [
      "0.099787645 0.6995402041442704 0.8477281377761317\n",
      "Epoch: 82\n"
     ]
    },
    {
     "name": "stderr",
     "output_type": "stream",
     "text": [
      "100%|██████████| 6214/6214 [18:07<00:00,  5.71it/s]\n",
      "100%|██████████| 63/63 [00:06<00:00,  9.36it/s]\n"
     ]
    },
    {
     "name": "stdout",
     "output_type": "stream",
     "text": [
      "0.099150084 0.7033672961779439 0.8480414832734839\n",
      "Epoch: 83\n"
     ]
    },
    {
     "name": "stderr",
     "output_type": "stream",
     "text": [
      "100%|██████████| 6214/6214 [18:08<00:00,  5.71it/s]\n",
      "100%|██████████| 63/63 [00:06<00:00,  9.25it/s]\n"
     ]
    },
    {
     "name": "stdout",
     "output_type": "stream",
     "text": [
      "0.09927625 0.7026119251751314 0.8486276109795727\n",
      "Epoch: 84\n"
     ]
    },
    {
     "name": "stderr",
     "output_type": "stream",
     "text": [
      "100%|██████████| 6214/6214 [18:06<00:00,  5.72it/s]\n",
      "100%|██████████| 63/63 [00:06<00:00,  9.14it/s]\n"
     ]
    },
    {
     "name": "stdout",
     "output_type": "stream",
     "text": [
      "0.098771036 0.7056310263488506 0.8496603789173217\n",
      "Epoch: 85\n"
     ]
    },
    {
     "name": "stderr",
     "output_type": "stream",
     "text": [
      "100%|██████████| 6214/6214 [18:06<00:00,  5.72it/s]\n",
      "100%|██████████| 63/63 [00:06<00:00,  9.16it/s]\n"
     ]
    },
    {
     "name": "stdout",
     "output_type": "stream",
     "text": [
      "0.099048264 0.7039762394456964 0.8496654214556485\n",
      "Epoch: 86\n"
     ]
    },
    {
     "name": "stderr",
     "output_type": "stream",
     "text": [
      "100%|██████████| 6214/6214 [18:06<00:00,  5.72it/s]\n",
      "100%|██████████| 63/63 [00:06<00:00,  9.29it/s]\n"
     ]
    },
    {
     "name": "stdout",
     "output_type": "stream",
     "text": [
      "0.099674314 0.7002223109367812 0.8495136498382038\n",
      "Epoch: 87\n"
     ]
    },
    {
     "name": "stderr",
     "output_type": "stream",
     "text": [
      "100%|██████████| 6214/6214 [18:07<00:00,  5.72it/s]\n",
      "100%|██████████| 63/63 [00:06<00:00,  9.14it/s]\n"
     ]
    },
    {
     "name": "stdout",
     "output_type": "stream",
     "text": [
      "0.09834324 0.7081754615383438 0.850392928172776\n",
      "Epoch: 88\n"
     ]
    },
    {
     "name": "stderr",
     "output_type": "stream",
     "text": [
      "100%|██████████| 6214/6214 [18:07<00:00,  5.71it/s]\n",
      "100%|██████████| 63/63 [00:06<00:00,  9.28it/s]\n"
     ]
    },
    {
     "name": "stdout",
     "output_type": "stream",
     "text": [
      "0.09882544 0.7053066286146008 0.8495850645941337\n",
      "Epoch: 89\n"
     ]
    },
    {
     "name": "stderr",
     "output_type": "stream",
     "text": [
      "100%|██████████| 6214/6214 [18:07<00:00,  5.72it/s]\n",
      "100%|██████████| 63/63 [00:06<00:00,  9.18it/s]\n"
     ]
    },
    {
     "name": "stdout",
     "output_type": "stream",
     "text": [
      "0.09903652 0.7040464615585504 0.8504625961925462\n",
      "Epoch: 90\n"
     ]
    },
    {
     "name": "stderr",
     "output_type": "stream",
     "text": [
      "100%|██████████| 6214/6214 [18:08<00:00,  5.71it/s]\n",
      "100%|██████████| 63/63 [00:06<00:00,  9.08it/s]\n"
     ]
    },
    {
     "name": "stdout",
     "output_type": "stream",
     "text": [
      "0.098885074 0.7049509030633582 0.8505480901454484\n",
      "Epoch: 91\n"
     ]
    },
    {
     "name": "stderr",
     "output_type": "stream",
     "text": [
      "100%|██████████| 6214/6214 [18:07<00:00,  5.72it/s]\n",
      "100%|██████████| 63/63 [00:06<00:00,  9.27it/s]\n"
     ]
    },
    {
     "name": "stdout",
     "output_type": "stream",
     "text": [
      "0.099108264 0.7036175004680127 0.8507212577276605\n",
      "Epoch: 92\n"
     ]
    },
    {
     "name": "stderr",
     "output_type": "stream",
     "text": [
      "100%|██████████| 6214/6214 [18:07<00:00,  5.72it/s]\n",
      "100%|██████████| 63/63 [00:06<00:00,  9.44it/s]\n"
     ]
    },
    {
     "name": "stdout",
     "output_type": "stream",
     "text": [
      "0.09891674 0.7047619048052347 0.8512943457007098\n",
      "Epoch: 93\n"
     ]
    },
    {
     "name": "stderr",
     "output_type": "stream",
     "text": [
      "100%|██████████| 6214/6214 [18:07<00:00,  5.71it/s]\n",
      "100%|██████████| 63/63 [00:06<00:00,  9.18it/s]\n"
     ]
    },
    {
     "name": "stdout",
     "output_type": "stream",
     "text": [
      "0.09868069 0.706169305282303 0.8512351026717107\n",
      "Epoch: 94\n"
     ]
    },
    {
     "name": "stderr",
     "output_type": "stream",
     "text": [
      "100%|██████████| 6214/6214 [18:07<00:00,  5.72it/s]\n",
      "100%|██████████| 63/63 [00:06<00:00,  9.01it/s]\n"
     ]
    },
    {
     "name": "stdout",
     "output_type": "stream",
     "text": [
      "0.09870129 0.7060466200865407 0.8510896794185994\n",
      "Epoch: 95\n"
     ]
    },
    {
     "name": "stderr",
     "output_type": "stream",
     "text": [
      "100%|██████████| 6214/6214 [18:07<00:00,  5.72it/s]\n",
      "100%|██████████| 63/63 [00:06<00:00,  9.19it/s]\n"
     ]
    },
    {
     "name": "stdout",
     "output_type": "stream",
     "text": [
      "0.098925225 0.7047112182423458 0.8513774086096784\n",
      "Epoch: 96\n"
     ]
    },
    {
     "name": "stderr",
     "output_type": "stream",
     "text": [
      "100%|██████████| 6214/6214 [18:07<00:00,  5.71it/s]\n",
      "100%|██████████| 63/63 [00:06<00:00,  9.11it/s]\n"
     ]
    },
    {
     "name": "stdout",
     "output_type": "stream",
     "text": [
      "0.098554 0.706923297619175 0.8516811906647588\n",
      "Epoch: 97\n"
     ]
    },
    {
     "name": "stderr",
     "output_type": "stream",
     "text": [
      "100%|██████████| 6214/6214 [18:07<00:00,  5.71it/s]\n",
      "100%|██████████| 63/63 [00:06<00:00,  9.15it/s]\n"
     ]
    },
    {
     "name": "stdout",
     "output_type": "stream",
     "text": [
      "0.098219566 0.70890896795478 0.8521642651262498\n",
      "Epoch: 98\n"
     ]
    },
    {
     "name": "stderr",
     "output_type": "stream",
     "text": [
      "100%|██████████| 6214/6214 [18:07<00:00,  5.71it/s]\n",
      "100%|██████████| 63/63 [00:06<00:00,  9.03it/s]\n"
     ]
    },
    {
     "name": "stdout",
     "output_type": "stream",
     "text": [
      "0.09821523 0.7089346515191249 0.8520508852774407\n",
      "Epoch: 99\n"
     ]
    },
    {
     "name": "stderr",
     "output_type": "stream",
     "text": [
      "100%|██████████| 6214/6214 [18:07<00:00,  5.71it/s]\n",
      "100%|██████████| 63/63 [00:06<00:00,  9.15it/s]\n"
     ]
    },
    {
     "name": "stdout",
     "output_type": "stream",
     "text": [
      "0.09809536 0.7096447054071566 0.8520682191093969\n",
      "Epoch: 100\n"
     ]
    },
    {
     "name": "stderr",
     "output_type": "stream",
     "text": [
      "100%|██████████| 6214/6214 [18:08<00:00,  5.71it/s]\n",
      "100%|██████████| 63/63 [00:06<00:00,  9.33it/s]\n"
     ]
    },
    {
     "name": "stdout",
     "output_type": "stream",
     "text": [
      "0.098143496 0.7093597152401869 0.8525976391706179\n",
      "Epoch: 101\n"
     ]
    },
    {
     "name": "stderr",
     "output_type": "stream",
     "text": [
      "100%|██████████| 6214/6214 [18:07<00:00,  5.71it/s]\n",
      "100%|██████████| 63/63 [00:06<00:00,  9.14it/s]\n"
     ]
    },
    {
     "name": "stdout",
     "output_type": "stream",
     "text": [
      "0.09848545 0.7073308456722704 0.8528543137762549\n",
      "Epoch: 102\n"
     ]
    },
    {
     "name": "stderr",
     "output_type": "stream",
     "text": [
      "100%|██████████| 6214/6214 [18:07<00:00,  5.72it/s]\n",
      "100%|██████████| 63/63 [00:06<00:00,  9.12it/s]\n"
     ]
    },
    {
     "name": "stdout",
     "output_type": "stream",
     "text": [
      "0.09833318 0.7082351301764255 0.853352370989472\n",
      "Epoch: 103\n"
     ]
    },
    {
     "name": "stderr",
     "output_type": "stream",
     "text": [
      "100%|██████████| 6214/6214 [18:09<00:00,  5.71it/s]\n",
      "100%|██████████| 63/63 [00:06<00:00,  9.15it/s]\n"
     ]
    },
    {
     "name": "stdout",
     "output_type": "stream",
     "text": [
      "0.09834864 0.7081434000073701 0.8527164512308022\n",
      "Epoch: 104\n"
     ]
    },
    {
     "name": "stderr",
     "output_type": "stream",
     "text": [
      "100%|██████████| 6214/6214 [18:07<00:00,  5.71it/s]\n",
      "100%|██████████| 63/63 [00:06<00:00,  9.08it/s]\n"
     ]
    },
    {
     "name": "stdout",
     "output_type": "stream",
     "text": [
      "0.09782614 0.7112362538481503 0.8533976274311801\n",
      "Epoch: 105\n"
     ]
    },
    {
     "name": "stderr",
     "output_type": "stream",
     "text": [
      "100%|██████████| 6214/6214 [18:06<00:00,  5.72it/s]\n",
      "100%|██████████| 63/63 [00:06<00:00,  9.31it/s]\n"
     ]
    },
    {
     "name": "stdout",
     "output_type": "stream",
     "text": [
      "0.09884096 0.7052141153599557 0.8528105711924908\n",
      "Epoch: 106\n"
     ]
    },
    {
     "name": "stderr",
     "output_type": "stream",
     "text": [
      "100%|██████████| 6214/6214 [18:07<00:00,  5.72it/s]\n",
      "100%|██████████| 63/63 [00:06<00:00,  9.41it/s]\n"
     ]
    },
    {
     "name": "stdout",
     "output_type": "stream",
     "text": [
      "0.09849143 0.7072953023991826 0.8531007350950331\n",
      "Epoch: 107\n"
     ]
    },
    {
     "name": "stderr",
     "output_type": "stream",
     "text": [
      "100%|██████████| 6214/6214 [18:07<00:00,  5.72it/s]\n",
      "100%|██████████| 63/63 [00:06<00:00,  9.13it/s]\n"
     ]
    },
    {
     "name": "stdout",
     "output_type": "stream",
     "text": [
      "0.09769399 0.7120159028936839 0.8539325238234557\n",
      "Epoch: 108\n"
     ]
    },
    {
     "name": "stderr",
     "output_type": "stream",
     "text": [
      "100%|██████████| 6214/6214 [18:06<00:00,  5.72it/s]\n",
      "100%|██████████| 63/63 [00:06<00:00,  9.07it/s]\n"
     ]
    },
    {
     "name": "stdout",
     "output_type": "stream",
     "text": [
      "0.09748723 0.713233555578751 0.8541114824528131\n",
      "Epoch: 109\n"
     ]
    },
    {
     "name": "stderr",
     "output_type": "stream",
     "text": [
      "100%|██████████| 6214/6214 [18:06<00:00,  5.72it/s]\n",
      "100%|██████████| 63/63 [00:06<00:00,  9.19it/s]\n"
     ]
    },
    {
     "name": "stdout",
     "output_type": "stream",
     "text": [
      "0.09738273 0.7138480492974137 0.8545969202615523\n",
      "Epoch: 110\n"
     ]
    },
    {
     "name": "stderr",
     "output_type": "stream",
     "text": [
      "100%|██████████| 6214/6214 [18:06<00:00,  5.72it/s]\n",
      "100%|██████████| 63/63 [00:06<00:00,  9.10it/s]\n"
     ]
    },
    {
     "name": "stdout",
     "output_type": "stream",
     "text": [
      "0.09812196 0.7094872037546375 0.853564703674875\n",
      "Epoch: 111\n"
     ]
    },
    {
     "name": "stderr",
     "output_type": "stream",
     "text": [
      "100%|██████████| 6214/6214 [18:06<00:00,  5.72it/s]\n",
      "100%|██████████| 63/63 [00:06<00:00,  9.17it/s]\n"
     ]
    },
    {
     "name": "stdout",
     "output_type": "stream",
     "text": [
      "0.098104596 0.709590026274928 0.8547628316169699\n",
      "Epoch: 112\n"
     ]
    },
    {
     "name": "stderr",
     "output_type": "stream",
     "text": [
      "100%|██████████| 6214/6214 [18:07<00:00,  5.72it/s]\n",
      "100%|██████████| 63/63 [00:06<00:00,  9.10it/s]\n"
     ]
    },
    {
     "name": "stdout",
     "output_type": "stream",
     "text": [
      "0.09822724 0.708863479494657 0.8541540423510252\n",
      "Epoch: 113\n"
     ]
    },
    {
     "name": "stderr",
     "output_type": "stream",
     "text": [
      "100%|██████████| 6214/6214 [18:06<00:00,  5.72it/s]\n",
      "100%|██████████| 63/63 [00:06<00:00,  9.21it/s]\n"
     ]
    },
    {
     "name": "stdout",
     "output_type": "stream",
     "text": [
      "0.097984076 0.7103031196835203 0.8541135148119908\n",
      "Epoch: 114\n"
     ]
    },
    {
     "name": "stderr",
     "output_type": "stream",
     "text": [
      "100%|██████████| 6214/6214 [18:07<00:00,  5.72it/s]\n",
      "100%|██████████| 63/63 [00:06<00:00,  9.01it/s]\n"
     ]
    },
    {
     "name": "stdout",
     "output_type": "stream",
     "text": [
      "0.09735931 0.7139856580872578 0.8549540867046563\n",
      "Epoch: 115\n"
     ]
    },
    {
     "name": "stderr",
     "output_type": "stream",
     "text": [
      "100%|██████████| 6214/6214 [18:06<00:00,  5.72it/s]\n",
      "100%|██████████| 63/63 [00:06<00:00,  9.18it/s]\n"
     ]
    },
    {
     "name": "stdout",
     "output_type": "stream",
     "text": [
      "0.097149245 0.7152185622517508 0.8549625939548361\n",
      "Epoch: 116\n"
     ]
    },
    {
     "name": "stderr",
     "output_type": "stream",
     "text": [
      "100%|██████████| 6214/6214 [18:06<00:00,  5.72it/s]\n",
      "100%|██████████| 63/63 [00:06<00:00,  9.47it/s]\n"
     ]
    },
    {
     "name": "stdout",
     "output_type": "stream",
     "text": [
      "0.09729684 0.714352605923599 0.8555857463607888\n",
      "Epoch: 117\n"
     ]
    },
    {
     "name": "stderr",
     "output_type": "stream",
     "text": [
      "100%|██████████| 6214/6214 [18:04<00:00,  5.73it/s]\n",
      "100%|██████████| 63/63 [00:06<00:00,  9.26it/s]\n"
     ]
    },
    {
     "name": "stdout",
     "output_type": "stream",
     "text": [
      "0.09748566 0.7132427769287176 0.8554822740071385\n",
      "Epoch: 118\n"
     ]
    },
    {
     "name": "stderr",
     "output_type": "stream",
     "text": [
      "100%|██████████| 6214/6214 [18:05<00:00,  5.72it/s]\n",
      "100%|██████████| 63/63 [00:06<00:00,  9.29it/s]\n"
     ]
    },
    {
     "name": "stdout",
     "output_type": "stream",
     "text": [
      "0.09720754 0.7148767338138715 0.8551410458416481\n",
      "Epoch: 119\n"
     ]
    },
    {
     "name": "stderr",
     "output_type": "stream",
     "text": [
      "100%|██████████| 6214/6214 [18:04<00:00,  5.73it/s]\n",
      "100%|██████████| 63/63 [00:06<00:00,  9.30it/s]\n"
     ]
    },
    {
     "name": "stdout",
     "output_type": "stream",
     "text": [
      "0.097309195 0.7142800702730698 0.8555257498078189\n",
      "Epoch: 120\n"
     ]
    },
    {
     "name": "stderr",
     "output_type": "stream",
     "text": [
      "100%|██████████| 6214/6214 [18:04<00:00,  5.73it/s]\n",
      "100%|██████████| 63/63 [00:06<00:00,  9.25it/s]\n"
     ]
    },
    {
     "name": "stdout",
     "output_type": "stream",
     "text": [
      "0.097015925 0.7159996416792879 0.8561230615085856\n",
      "Epoch: 121\n"
     ]
    },
    {
     "name": "stderr",
     "output_type": "stream",
     "text": [
      "100%|██████████| 6214/6214 [18:04<00:00,  5.73it/s]\n",
      "100%|██████████| 63/63 [00:06<00:00,  9.42it/s]\n"
     ]
    },
    {
     "name": "stdout",
     "output_type": "stream",
     "text": [
      "0.09764792 0.712287468111839 0.8554102314875675\n",
      "Epoch: 122\n"
     ]
    },
    {
     "name": "stderr",
     "output_type": "stream",
     "text": [
      "100%|██████████| 6214/6214 [18:04<00:00,  5.73it/s]\n",
      "100%|██████████| 63/63 [00:06<00:00,  9.20it/s]\n"
     ]
    },
    {
     "name": "stdout",
     "output_type": "stream",
     "text": [
      "0.09747041 0.7133325416599907 0.8556055768268893\n",
      "Epoch: 123\n"
     ]
    },
    {
     "name": "stderr",
     "output_type": "stream",
     "text": [
      "100%|██████████| 6214/6214 [18:05<00:00,  5.73it/s]\n",
      "100%|██████████| 63/63 [00:06<00:00,  9.38it/s]\n"
     ]
    },
    {
     "name": "stdout",
     "output_type": "stream",
     "text": [
      "0.09726831 0.7145200510083718 0.8554566407699324\n",
      "Epoch: 124\n"
     ]
    },
    {
     "name": "stderr",
     "output_type": "stream",
     "text": [
      "100%|██████████| 6214/6214 [18:04<00:00,  5.73it/s]\n",
      "100%|██████████| 63/63 [00:06<00:00,  9.27it/s]\n"
     ]
    },
    {
     "name": "stdout",
     "output_type": "stream",
     "text": [
      "0.09724434 0.7146607936696092 0.8559487309208995\n",
      "Epoch: 125\n"
     ]
    },
    {
     "name": "stderr",
     "output_type": "stream",
     "text": [
      "100%|██████████| 6214/6214 [18:04<00:00,  5.73it/s]\n",
      "100%|██████████| 63/63 [00:06<00:00,  9.15it/s]\n"
     ]
    },
    {
     "name": "stdout",
     "output_type": "stream",
     "text": [
      "0.09724018 0.7146851800040224 0.8562411981392654\n",
      "Epoch: 126\n"
     ]
    },
    {
     "name": "stderr",
     "output_type": "stream",
     "text": [
      "100%|██████████| 6214/6214 [18:04<00:00,  5.73it/s]\n",
      "100%|██████████| 63/63 [00:06<00:00,  9.35it/s]\n"
     ]
    },
    {
     "name": "stdout",
     "output_type": "stream",
     "text": [
      "0.09777385 0.7115448799444122 0.855936188332858\n",
      "Epoch: 127\n"
     ]
    },
    {
     "name": "stderr",
     "output_type": "stream",
     "text": [
      "100%|██████████| 6214/6214 [18:04<00:00,  5.73it/s]\n",
      "100%|██████████| 63/63 [00:06<00:00,  9.21it/s]\n"
     ]
    },
    {
     "name": "stdout",
     "output_type": "stream",
     "text": [
      "0.09720606 0.7148853857649027 0.8561841383998267\n",
      "Epoch: 128\n"
     ]
    },
    {
     "name": "stderr",
     "output_type": "stream",
     "text": [
      "100%|██████████| 6214/6214 [18:04<00:00,  5.73it/s]\n",
      "100%|██████████| 63/63 [00:06<00:00,  9.29it/s]\n"
     ]
    },
    {
     "name": "stdout",
     "output_type": "stream",
     "text": [
      "0.09731349 0.714254818474233 0.8561094673120817\n",
      "Epoch: 129\n"
     ]
    },
    {
     "name": "stderr",
     "output_type": "stream",
     "text": [
      "100%|██████████| 6214/6214 [18:04<00:00,  5.73it/s]\n",
      "100%|██████████| 63/63 [00:06<00:00,  9.24it/s]\n"
     ]
    },
    {
     "name": "stdout",
     "output_type": "stream",
     "text": [
      "0.096988864 0.7161580763605866 0.8562177977852727\n",
      "Epoch: 130\n"
     ]
    },
    {
     "name": "stderr",
     "output_type": "stream",
     "text": [
      "100%|██████████| 6214/6214 [18:06<00:00,  5.72it/s]\n",
      "100%|██████████| 63/63 [00:07<00:00,  8.70it/s]\n"
     ]
    },
    {
     "name": "stdout",
     "output_type": "stream",
     "text": [
      "0.09751428 0.7130744698781677 0.8563388957976772\n",
      "Epoch: 131\n"
     ]
    },
    {
     "name": "stderr",
     "output_type": "stream",
     "text": [
      "100%|██████████| 6214/6214 [18:05<00:00,  5.73it/s]\n",
      "100%|██████████| 63/63 [00:06<00:00,  9.37it/s]\n"
     ]
    },
    {
     "name": "stdout",
     "output_type": "stream",
     "text": [
      "0.0976235 0.7124313414806469 0.8564084466750465\n",
      "Epoch: 132\n"
     ]
    },
    {
     "name": "stderr",
     "output_type": "stream",
     "text": [
      "100%|██████████| 6214/6214 [18:04<00:00,  5.73it/s]\n",
      "100%|██████████| 63/63 [00:06<00:00,  9.18it/s]\n"
     ]
    },
    {
     "name": "stdout",
     "output_type": "stream",
     "text": [
      "0.09705857 0.7157499083847638 0.8563001205636799\n",
      "Epoch: 133\n"
     ]
    },
    {
     "name": "stderr",
     "output_type": "stream",
     "text": [
      "100%|██████████| 6214/6214 [18:04<00:00,  5.73it/s]\n",
      "100%|██████████| 63/63 [00:06<00:00,  9.42it/s]\n"
     ]
    },
    {
     "name": "stdout",
     "output_type": "stream",
     "text": [
      "0.09667935 0.7179667329462678 0.8569108620660048\n",
      "Epoch: 134\n"
     ]
    },
    {
     "name": "stderr",
     "output_type": "stream",
     "text": [
      "100%|██████████| 6214/6214 [18:04<00:00,  5.73it/s]\n",
      "100%|██████████| 63/63 [00:06<00:00,  9.34it/s]\n"
     ]
    },
    {
     "name": "stdout",
     "output_type": "stream",
     "text": [
      "0.09718664 0.7149992591054725 0.8568712190733645\n",
      "Epoch: 135\n"
     ]
    },
    {
     "name": "stderr",
     "output_type": "stream",
     "text": [
      "100%|██████████| 6214/6214 [18:04<00:00,  5.73it/s]\n",
      "100%|██████████| 63/63 [00:06<00:00,  9.26it/s]\n"
     ]
    },
    {
     "name": "stdout",
     "output_type": "stream",
     "text": [
      "0.097038396 0.7158681107446703 0.8567865828492283\n",
      "Epoch: 136\n"
     ]
    },
    {
     "name": "stderr",
     "output_type": "stream",
     "text": [
      "100%|██████████| 6214/6214 [18:04<00:00,  5.73it/s]\n",
      "100%|██████████| 63/63 [00:06<00:00,  9.42it/s]\n"
     ]
    },
    {
     "name": "stdout",
     "output_type": "stream",
     "text": [
      "0.097113594 0.7154275595346147 0.856818582155877\n",
      "Epoch: 137\n"
     ]
    },
    {
     "name": "stderr",
     "output_type": "stream",
     "text": [
      "100%|██████████| 6214/6214 [18:04<00:00,  5.73it/s]\n",
      "100%|██████████| 63/63 [00:06<00:00,  9.26it/s]\n"
     ]
    },
    {
     "name": "stdout",
     "output_type": "stream",
     "text": [
      "0.09647038 0.7191847001500353 0.8573665305339189\n",
      "Epoch: 138\n"
     ]
    },
    {
     "name": "stderr",
     "output_type": "stream",
     "text": [
      "100%|██████████| 6214/6214 [18:04<00:00,  5.73it/s]\n",
      "100%|██████████| 63/63 [00:06<00:00,  9.28it/s]\n"
     ]
    },
    {
     "name": "stdout",
     "output_type": "stream",
     "text": [
      "0.097067155 0.7156996046828208 0.8571874346784834\n",
      "Epoch: 139\n"
     ]
    },
    {
     "name": "stderr",
     "output_type": "stream",
     "text": [
      "100%|██████████| 6214/6214 [18:04<00:00,  5.73it/s]\n",
      "100%|██████████| 63/63 [00:06<00:00,  9.20it/s]\n"
     ]
    },
    {
     "name": "stdout",
     "output_type": "stream",
     "text": [
      "0.09663303 0.7182369553438923 0.8574803480829534\n",
      "Epoch: 140\n"
     ]
    },
    {
     "name": "stderr",
     "output_type": "stream",
     "text": [
      "100%|██████████| 6214/6214 [18:04<00:00,  5.73it/s]\n",
      "100%|██████████| 63/63 [00:06<00:00,  9.51it/s]\n"
     ]
    },
    {
     "name": "stdout",
     "output_type": "stream",
     "text": [
      "0.097112685 0.7154328619665399 0.8571890099428582\n",
      "Epoch: 141\n"
     ]
    },
    {
     "name": "stderr",
     "output_type": "stream",
     "text": [
      "100%|██████████| 6214/6214 [18:04<00:00,  5.73it/s]\n",
      "100%|██████████| 63/63 [00:06<00:00,  9.08it/s]\n"
     ]
    },
    {
     "name": "stdout",
     "output_type": "stream",
     "text": [
      "0.09664052 0.7181932924183458 0.857442324960263\n",
      "Epoch: 142\n"
     ]
    },
    {
     "name": "stderr",
     "output_type": "stream",
     "text": [
      "100%|██████████| 6214/6214 [18:04<00:00,  5.73it/s]\n",
      "100%|██████████| 63/63 [00:06<00:00,  9.44it/s]\n"
     ]
    },
    {
     "name": "stdout",
     "output_type": "stream",
     "text": [
      "0.097064145 0.7157172619434221 0.8571950495566507\n",
      "Epoch: 143\n"
     ]
    },
    {
     "name": "stderr",
     "output_type": "stream",
     "text": [
      "100%|██████████| 6214/6214 [18:04<00:00,  5.73it/s]\n",
      "100%|██████████| 63/63 [00:06<00:00,  9.23it/s]\n"
     ]
    },
    {
     "name": "stdout",
     "output_type": "stream",
     "text": [
      "0.09719773 0.7149342064256177 0.8576844328833494\n",
      "Epoch: 144\n"
     ]
    },
    {
     "name": "stderr",
     "output_type": "stream",
     "text": [
      "100%|██████████| 6214/6214 [18:04<00:00,  5.73it/s]\n",
      "100%|██████████| 63/63 [00:06<00:00,  9.30it/s]\n"
     ]
    },
    {
     "name": "stdout",
     "output_type": "stream",
     "text": [
      "0.09713665 0.7152924146968334 0.857634268956665\n",
      "Epoch: 145\n"
     ]
    },
    {
     "name": "stderr",
     "output_type": "stream",
     "text": [
      "100%|██████████| 6214/6214 [18:04<00:00,  5.73it/s]\n",
      "100%|██████████| 63/63 [00:06<00:00,  9.24it/s]\n"
     ]
    },
    {
     "name": "stdout",
     "output_type": "stream",
     "text": [
      "0.09687927 0.7167991923489381 0.8579320747656037\n",
      "Epoch: 146\n"
     ]
    },
    {
     "name": "stderr",
     "output_type": "stream",
     "text": [
      "100%|██████████| 6214/6214 [18:04<00:00,  5.73it/s]\n",
      "100%|██████████| 63/63 [00:06<00:00,  9.24it/s]\n"
     ]
    },
    {
     "name": "stdout",
     "output_type": "stream",
     "text": [
      "0.09673164 0.7176616144792414 0.8580737026687293\n",
      "Epoch: 147\n"
     ]
    },
    {
     "name": "stderr",
     "output_type": "stream",
     "text": [
      "100%|██████████| 6214/6214 [18:04<00:00,  5.73it/s]\n",
      "100%|██████████| 63/63 [00:06<00:00,  9.34it/s]\n"
     ]
    },
    {
     "name": "stdout",
     "output_type": "stream",
     "text": [
      "0.09680549 0.7172303806138223 0.8577835473922392\n",
      "Epoch: 148\n"
     ]
    },
    {
     "name": "stderr",
     "output_type": "stream",
     "text": [
      "100%|██████████| 6214/6214 [18:04<00:00,  5.73it/s]\n",
      "100%|██████████| 63/63 [00:06<00:00,  9.39it/s]\n"
     ]
    },
    {
     "name": "stdout",
     "output_type": "stream",
     "text": [
      "0.096815675 0.7171708211379 0.8575227626970238\n",
      "Epoch: 149\n"
     ]
    },
    {
     "name": "stderr",
     "output_type": "stream",
     "text": [
      "100%|██████████| 6214/6214 [18:04<00:00,  5.73it/s]\n",
      "100%|██████████| 63/63 [00:06<00:00,  9.43it/s]\n"
     ]
    },
    {
     "name": "stdout",
     "output_type": "stream",
     "text": [
      "0.09674252 0.7175981150469867 0.8577771539514191\n",
      "Epoch: 150\n"
     ]
    },
    {
     "name": "stderr",
     "output_type": "stream",
     "text": [
      "100%|██████████| 6214/6214 [18:04<00:00,  5.73it/s]\n",
      "100%|██████████| 63/63 [00:06<00:00,  9.27it/s]\n"
     ]
    },
    {
     "name": "stdout",
     "output_type": "stream",
     "text": [
      "0.09678099 0.7173734349291511 0.8581786962313137\n",
      "Epoch: 151\n"
     ]
    },
    {
     "name": "stderr",
     "output_type": "stream",
     "text": [
      "100%|██████████| 6214/6214 [18:04<00:00,  5.73it/s]\n",
      "100%|██████████| 63/63 [00:06<00:00,  9.31it/s]\n"
     ]
    },
    {
     "name": "stdout",
     "output_type": "stream",
     "text": [
      "0.096765645 0.7174631094274522 0.8579926328809439\n",
      "Epoch: 152\n"
     ]
    },
    {
     "name": "stderr",
     "output_type": "stream",
     "text": [
      "100%|██████████| 6214/6214 [18:04<00:00,  5.73it/s]\n",
      "100%|██████████| 63/63 [00:06<00:00,  9.43it/s]\n"
     ]
    },
    {
     "name": "stdout",
     "output_type": "stream",
     "text": [
      "0.096560135 0.7186619146327335 0.8584636938016451\n",
      "Epoch: 153\n"
     ]
    },
    {
     "name": "stderr",
     "output_type": "stream",
     "text": [
      "100%|██████████| 6214/6214 [18:04<00:00,  5.73it/s]\n",
      "100%|██████████| 63/63 [00:06<00:00,  9.26it/s]\n"
     ]
    },
    {
     "name": "stdout",
     "output_type": "stream",
     "text": [
      "0.09671206 0.7177759020294846 0.8584883896816062\n",
      "Epoch: 154\n"
     ]
    },
    {
     "name": "stderr",
     "output_type": "stream",
     "text": [
      "100%|██████████| 6214/6214 [18:04<00:00,  5.73it/s]\n",
      "100%|██████████| 63/63 [00:06<00:00,  9.29it/s]\n"
     ]
    },
    {
     "name": "stdout",
     "output_type": "stream",
     "text": [
      "0.096615635 0.7183384301204792 0.8589567016623492\n",
      "Epoch: 155\n"
     ]
    },
    {
     "name": "stderr",
     "output_type": "stream",
     "text": [
      "100%|██████████| 6214/6214 [18:04<00:00,  5.73it/s]\n",
      "100%|██████████| 63/63 [00:06<00:00,  9.41it/s]\n"
     ]
    },
    {
     "name": "stdout",
     "output_type": "stream",
     "text": [
      "0.09661046 0.7183686100777775 0.8585462255901863\n",
      "Epoch: 156\n"
     ]
    },
    {
     "name": "stderr",
     "output_type": "stream",
     "text": [
      "100%|██████████| 6214/6214 [18:07<00:00,  5.71it/s]\n",
      "100%|██████████| 63/63 [00:06<00:00,  9.24it/s]\n"
     ]
    },
    {
     "name": "stdout",
     "output_type": "stream",
     "text": [
      "0.096401066 0.7195881160481709 0.8587669604175067\n",
      "Epoch: 157\n"
     ]
    },
    {
     "name": "stderr",
     "output_type": "stream",
     "text": [
      "100%|██████████| 6214/6214 [18:04<00:00,  5.73it/s]\n",
      "100%|██████████| 63/63 [00:06<00:00,  9.24it/s]\n"
     ]
    },
    {
     "name": "stdout",
     "output_type": "stream",
     "text": [
      "0.096893385 0.7167166801090131 0.8585307711423905\n",
      "Epoch: 158\n"
     ]
    },
    {
     "name": "stderr",
     "output_type": "stream",
     "text": [
      "100%|██████████| 6214/6214 [18:04<00:00,  5.73it/s]\n",
      "100%|██████████| 63/63 [00:06<00:00,  9.13it/s]\n"
     ]
    },
    {
     "name": "stdout",
     "output_type": "stream",
     "text": [
      "0.09683609 0.7170515406131512 0.85884868963633\n",
      "Epoch: 159\n"
     ]
    },
    {
     "name": "stderr",
     "output_type": "stream",
     "text": [
      "100%|██████████| 6214/6214 [18:04<00:00,  5.73it/s]\n",
      "100%|██████████| 63/63 [00:06<00:00,  9.35it/s]\n"
     ]
    },
    {
     "name": "stdout",
     "output_type": "stream",
     "text": [
      "0.09641983 0.7194788920039368 0.859052315801859\n",
      "Epoch: 160\n"
     ]
    },
    {
     "name": "stderr",
     "output_type": "stream",
     "text": [
      "100%|██████████| 6214/6214 [18:04<00:00,  5.73it/s]\n",
      "100%|██████████| 63/63 [00:06<00:00,  9.44it/s]\n"
     ]
    },
    {
     "name": "stdout",
     "output_type": "stream",
     "text": [
      "0.09666931 0.718025360750185 0.8588095354164683\n",
      "Epoch: 161\n"
     ]
    },
    {
     "name": "stderr",
     "output_type": "stream",
     "text": [
      "100%|██████████| 6214/6214 [18:04<00:00,  5.73it/s]\n",
      "100%|██████████| 63/63 [00:06<00:00,  9.34it/s]\n"
     ]
    },
    {
     "name": "stdout",
     "output_type": "stream",
     "text": [
      "0.09651035 0.71895190845822 0.8587946027309274\n",
      "Epoch: 162\n"
     ]
    },
    {
     "name": "stderr",
     "output_type": "stream",
     "text": [
      "100%|██████████| 6214/6214 [18:04<00:00,  5.73it/s]\n",
      "100%|██████████| 63/63 [00:06<00:00,  9.31it/s]\n"
     ]
    },
    {
     "name": "stdout",
     "output_type": "stream",
     "text": [
      "0.09670047 0.7178435516698316 0.8588579794468219\n",
      "Epoch: 163\n"
     ]
    },
    {
     "name": "stderr",
     "output_type": "stream",
     "text": [
      "100%|██████████| 6214/6214 [18:04<00:00,  5.73it/s]\n",
      "100%|██████████| 63/63 [00:06<00:00,  9.31it/s]\n"
     ]
    },
    {
     "name": "stdout",
     "output_type": "stream",
     "text": [
      "0.09621404 0.7206750481666419 0.8592394743333412\n",
      "Epoch: 164\n"
     ]
    },
    {
     "name": "stderr",
     "output_type": "stream",
     "text": [
      "100%|██████████| 6214/6214 [18:04<00:00,  5.73it/s]\n",
      "100%|██████████| 63/63 [00:06<00:00,  9.40it/s]\n"
     ]
    },
    {
     "name": "stdout",
     "output_type": "stream",
     "text": [
      "0.09661181 0.7183607222131044 0.8590314405010165\n",
      "Epoch: 165\n"
     ]
    },
    {
     "name": "stderr",
     "output_type": "stream",
     "text": [
      "100%|██████████| 6214/6214 [18:04<00:00,  5.73it/s]\n",
      "100%|██████████| 63/63 [00:06<00:00,  9.26it/s]\n"
     ]
    },
    {
     "name": "stdout",
     "output_type": "stream",
     "text": [
      "0.09592989 0.7223224878399632 0.8593151242843208\n",
      "Epoch: 166\n"
     ]
    },
    {
     "name": "stderr",
     "output_type": "stream",
     "text": [
      "100%|██████████| 6214/6214 [18:04<00:00,  5.73it/s]\n",
      "100%|██████████| 63/63 [00:06<00:00,  9.20it/s]\n"
     ]
    },
    {
     "name": "stdout",
     "output_type": "stream",
     "text": [
      "0.09645553 0.7192711090329127 0.8595201930466011\n",
      "Epoch: 167\n"
     ]
    },
    {
     "name": "stderr",
     "output_type": "stream",
     "text": [
      "100%|██████████| 6214/6214 [18:04<00:00,  5.73it/s]\n",
      "100%|██████████| 63/63 [00:06<00:00,  9.42it/s]\n"
     ]
    },
    {
     "name": "stdout",
     "output_type": "stream",
     "text": [
      "0.096591406 0.7184796436588788 0.8593044191601152\n",
      "Epoch: 168\n"
     ]
    },
    {
     "name": "stderr",
     "output_type": "stream",
     "text": [
      "100%|██████████| 6214/6214 [18:04<00:00,  5.73it/s]\n",
      "100%|██████████| 63/63 [00:06<00:00,  9.18it/s]\n"
     ]
    },
    {
     "name": "stdout",
     "output_type": "stream",
     "text": [
      "0.09602566 0.7217678068301565 0.8593696286023886\n",
      "Epoch: 169\n"
     ]
    },
    {
     "name": "stderr",
     "output_type": "stream",
     "text": [
      "100%|██████████| 6214/6214 [18:04<00:00,  5.73it/s]\n",
      "100%|██████████| 63/63 [00:06<00:00,  9.37it/s]\n"
     ]
    },
    {
     "name": "stdout",
     "output_type": "stream",
     "text": [
      "0.09600764 0.7218721970436495 0.8594437302440419\n",
      "Epoch: 170\n"
     ]
    },
    {
     "name": "stderr",
     "output_type": "stream",
     "text": [
      "100%|██████████| 6214/6214 [18:04<00:00,  5.73it/s]\n",
      "100%|██████████| 63/63 [00:06<00:00,  9.36it/s]\n"
     ]
    },
    {
     "name": "stdout",
     "output_type": "stream",
     "text": [
      "0.096526735 0.718856494991859 0.8593385992559729\n",
      "Epoch: 171\n"
     ]
    },
    {
     "name": "stderr",
     "output_type": "stream",
     "text": [
      "100%|██████████| 6214/6214 [18:04<00:00,  5.73it/s]\n",
      "100%|██████████| 63/63 [00:06<00:00,  9.23it/s]\n"
     ]
    },
    {
     "name": "stdout",
     "output_type": "stream",
     "text": [
      "0.09620414 0.7207325658053476 0.8596352385670479\n",
      "Epoch: 172\n"
     ]
    },
    {
     "name": "stderr",
     "output_type": "stream",
     "text": [
      "100%|██████████| 6214/6214 [18:04<00:00,  5.73it/s]\n",
      "100%|██████████| 63/63 [00:06<00:00,  9.32it/s]\n"
     ]
    },
    {
     "name": "stdout",
     "output_type": "stream",
     "text": [
      "0.09606076 0.721564355848799 0.8598779268941606\n",
      "Epoch: 173\n"
     ]
    },
    {
     "name": "stderr",
     "output_type": "stream",
     "text": [
      "100%|██████████| 6214/6214 [18:04<00:00,  5.73it/s]\n",
      "100%|██████████| 63/63 [00:06<00:00,  9.18it/s]\n"
     ]
    },
    {
     "name": "stdout",
     "output_type": "stream",
     "text": [
      "0.09599322 0.7219557158152416 0.8597913024302037\n",
      "Epoch: 174\n"
     ]
    },
    {
     "name": "stderr",
     "output_type": "stream",
     "text": [
      "100%|██████████| 6214/6214 [18:04<00:00,  5.73it/s]\n",
      "100%|██████████| 63/63 [00:06<00:00,  9.39it/s]\n"
     ]
    },
    {
     "name": "stdout",
     "output_type": "stream",
     "text": [
      "0.096061625 0.7215593205708607 0.8596980481818504\n",
      "Epoch: 175\n"
     ]
    },
    {
     "name": "stderr",
     "output_type": "stream",
     "text": [
      "100%|██████████| 6214/6214 [18:04<00:00,  5.73it/s]\n",
      "100%|██████████| 63/63 [00:06<00:00,  9.24it/s]\n"
     ]
    },
    {
     "name": "stdout",
     "output_type": "stream",
     "text": [
      "0.096708216 0.7177983326349546 0.8593672746816298\n",
      "Epoch: 176\n"
     ]
    },
    {
     "name": "stderr",
     "output_type": "stream",
     "text": [
      "100%|██████████| 6214/6214 [18:04<00:00,  5.73it/s]\n",
      "100%|██████████| 63/63 [00:06<00:00,  9.16it/s]\n"
     ]
    },
    {
     "name": "stdout",
     "output_type": "stream",
     "text": [
      "0.09636693 0.7197866344602388 0.8594917895053389\n",
      "Epoch: 177\n"
     ]
    },
    {
     "name": "stderr",
     "output_type": "stream",
     "text": [
      "100%|██████████| 6214/6214 [18:04<00:00,  5.73it/s]\n",
      "100%|██████████| 63/63 [00:06<00:00,  9.37it/s]\n"
     ]
    },
    {
     "name": "stdout",
     "output_type": "stream",
     "text": [
      "0.09627251 0.7203354343395193 0.8599380425918232\n",
      "Epoch: 178\n"
     ]
    },
    {
     "name": "stderr",
     "output_type": "stream",
     "text": [
      "100%|██████████| 6214/6214 [18:04<00:00,  5.73it/s]\n",
      "100%|██████████| 63/63 [00:06<00:00,  9.39it/s]\n"
     ]
    },
    {
     "name": "stdout",
     "output_type": "stream",
     "text": [
      "0.09646841 0.7191961290460605 0.85970401150668\n",
      "Epoch: 179\n"
     ]
    },
    {
     "name": "stderr",
     "output_type": "stream",
     "text": [
      "100%|██████████| 6214/6214 [18:04<00:00,  5.73it/s]\n",
      "100%|██████████| 63/63 [00:06<00:00,  9.25it/s]\n"
     ]
    },
    {
     "name": "stdout",
     "output_type": "stream",
     "text": [
      "0.096642844 0.7181797128306147 0.8596107998215543\n",
      "Epoch: 180\n"
     ]
    },
    {
     "name": "stderr",
     "output_type": "stream",
     "text": [
      "100%|██████████| 6214/6214 [18:04<00:00,  5.73it/s]\n",
      "100%|██████████| 63/63 [00:06<00:00,  9.20it/s]\n"
     ]
    },
    {
     "name": "stdout",
     "output_type": "stream",
     "text": [
      "0.096052386 0.7216128935773092 0.8598793217685942\n",
      "Epoch: 181\n"
     ]
    },
    {
     "name": "stderr",
     "output_type": "stream",
     "text": [
      "100%|██████████| 6214/6214 [18:04<00:00,  5.73it/s]\n",
      "100%|██████████| 63/63 [00:06<00:00,  9.18it/s]\n"
     ]
    },
    {
     "name": "stdout",
     "output_type": "stream",
     "text": [
      "0.09649303 0.7190528485411902 0.8599098857392125\n",
      "Epoch: 182\n"
     ]
    },
    {
     "name": "stderr",
     "output_type": "stream",
     "text": [
      "100%|██████████| 6214/6214 [18:05<00:00,  5.73it/s]\n",
      "100%|██████████| 63/63 [00:06<00:00,  9.33it/s]\n"
     ]
    },
    {
     "name": "stdout",
     "output_type": "stream",
     "text": [
      "0.096355714 0.7198518369154522 0.8597009028211139\n",
      "Epoch: 183\n"
     ]
    },
    {
     "name": "stderr",
     "output_type": "stream",
     "text": [
      "100%|██████████| 6214/6214 [18:04<00:00,  5.73it/s]\n",
      "100%|██████████| 63/63 [00:06<00:00,  9.13it/s]\n"
     ]
    },
    {
     "name": "stdout",
     "output_type": "stream",
     "text": [
      "0.096636385 0.7182174094998275 0.8598131124760694\n",
      "Epoch: 184\n"
     ]
    },
    {
     "name": "stderr",
     "output_type": "stream",
     "text": [
      "100%|██████████| 6214/6214 [18:04<00:00,  5.73it/s]\n",
      "100%|██████████| 63/63 [00:06<00:00,  9.05it/s]\n"
     ]
    },
    {
     "name": "stdout",
     "output_type": "stream",
     "text": [
      "0.09628845 0.7202428451659253 0.860044599029046\n",
      "Epoch: 185\n"
     ]
    },
    {
     "name": "stderr",
     "output_type": "stream",
     "text": [
      "100%|██████████| 6214/6214 [18:05<00:00,  5.73it/s]\n",
      "100%|██████████| 63/63 [00:06<00:00,  9.27it/s]\n"
     ]
    },
    {
     "name": "stdout",
     "output_type": "stream",
     "text": [
      "0.09621763 0.7206541889168647 0.8598225081600956\n",
      "Epoch: 186\n"
     ]
    },
    {
     "name": "stderr",
     "output_type": "stream",
     "text": [
      "100%|██████████| 6214/6214 [18:04<00:00,  5.73it/s]\n",
      "100%|██████████| 63/63 [00:06<00:00,  9.31it/s]\n"
     ]
    },
    {
     "name": "stdout",
     "output_type": "stream",
     "text": [
      "0.09624573 0.7204910268150887 0.8596930733635543\n",
      "Epoch: 187\n"
     ]
    },
    {
     "name": "stderr",
     "output_type": "stream",
     "text": [
      "100%|██████████| 6214/6214 [18:05<00:00,  5.72it/s]\n",
      "100%|██████████| 63/63 [00:06<00:00,  9.29it/s]\n"
     ]
    },
    {
     "name": "stdout",
     "output_type": "stream",
     "text": [
      "0.096481435 0.7191203085074194 0.8594542377332447\n",
      "Epoch: 188\n"
     ]
    },
    {
     "name": "stderr",
     "output_type": "stream",
     "text": [
      "100%|██████████| 6214/6214 [18:04<00:00,  5.73it/s]\n",
      "100%|██████████| 63/63 [00:06<00:00,  9.31it/s]\n"
     ]
    },
    {
     "name": "stdout",
     "output_type": "stream",
     "text": [
      "0.09636723 0.7197848466040382 0.859864340957711\n",
      "Epoch: 189\n"
     ]
    },
    {
     "name": "stderr",
     "output_type": "stream",
     "text": [
      "100%|██████████| 6214/6214 [18:04<00:00,  5.73it/s]\n",
      "100%|██████████| 63/63 [00:06<00:00,  9.28it/s]\n"
     ]
    },
    {
     "name": "stdout",
     "output_type": "stream",
     "text": [
      "0.09653221 0.7188245864053057 0.8595021415597744\n",
      "Epoch: 190\n"
     ]
    },
    {
     "name": "stderr",
     "output_type": "stream",
     "text": [
      "100%|██████████| 6214/6214 [18:05<00:00,  5.72it/s]\n",
      "100%|██████████| 63/63 [00:06<00:00,  9.31it/s]\n"
     ]
    },
    {
     "name": "stdout",
     "output_type": "stream",
     "text": [
      "0.09598145 0.722023956142223 0.8601682193692943\n",
      "Epoch: 191\n"
     ]
    },
    {
     "name": "stderr",
     "output_type": "stream",
     "text": [
      "100%|██████████| 6214/6214 [18:04<00:00,  5.73it/s]\n",
      "100%|██████████| 63/63 [00:06<00:00,  9.35it/s]\n"
     ]
    },
    {
     "name": "stdout",
     "output_type": "stream",
     "text": [
      "0.09602359 0.7217797436811539 0.8601250306795504\n",
      "Epoch: 192\n"
     ]
    },
    {
     "name": "stderr",
     "output_type": "stream",
     "text": [
      "100%|██████████| 6214/6214 [18:04<00:00,  5.73it/s]\n",
      "100%|██████████| 63/63 [00:06<00:00,  9.27it/s]\n"
     ]
    },
    {
     "name": "stdout",
     "output_type": "stream",
     "text": [
      "0.09617582 0.7208969252032397 0.8599761760888366\n",
      "Epoch: 193\n"
     ]
    },
    {
     "name": "stderr",
     "output_type": "stream",
     "text": [
      "100%|██████████| 6214/6214 [18:05<00:00,  5.73it/s]\n",
      "100%|██████████| 63/63 [00:06<00:00,  9.17it/s]\n"
     ]
    },
    {
     "name": "stdout",
     "output_type": "stream",
     "text": [
      "0.09635223 0.7198721294857292 0.8601134677835782\n",
      "Epoch: 194\n"
     ]
    },
    {
     "name": "stderr",
     "output_type": "stream",
     "text": [
      "100%|██████████| 6214/6214 [18:04<00:00,  5.73it/s]\n",
      "100%|██████████| 63/63 [00:06<00:00,  9.14it/s]\n"
     ]
    },
    {
     "name": "stdout",
     "output_type": "stream",
     "text": [
      "0.09621598 0.7206637981171975 0.860427069889553\n",
      "Epoch: 195\n"
     ]
    },
    {
     "name": "stderr",
     "output_type": "stream",
     "text": [
      "100%|██████████| 6214/6214 [18:05<00:00,  5.73it/s]\n",
      "100%|██████████| 63/63 [00:06<00:00,  9.43it/s]\n"
     ]
    },
    {
     "name": "stdout",
     "output_type": "stream",
     "text": [
      "0.096111365 0.7212709298564508 0.8603667137047165\n",
      "Epoch: 196\n"
     ]
    },
    {
     "name": "stderr",
     "output_type": "stream",
     "text": [
      "100%|██████████| 6214/6214 [18:05<00:00,  5.73it/s]\n",
      "100%|██████████| 63/63 [00:06<00:00,  9.24it/s]\n"
     ]
    },
    {
     "name": "stdout",
     "output_type": "stream",
     "text": [
      "0.096301 0.7201699127756895 0.860063741148952\n",
      "Epoch: 197\n"
     ]
    },
    {
     "name": "stderr",
     "output_type": "stream",
     "text": [
      "100%|██████████| 6214/6214 [18:05<00:00,  5.73it/s]\n",
      "100%|██████████| 63/63 [00:06<00:00,  9.29it/s]\n"
     ]
    },
    {
     "name": "stdout",
     "output_type": "stream",
     "text": [
      "0.096219204 0.7206450914655989 0.8603515001571144\n",
      "Epoch: 198\n"
     ]
    },
    {
     "name": "stderr",
     "output_type": "stream",
     "text": [
      "100%|██████████| 6214/6214 [18:04<00:00,  5.73it/s]\n",
      "100%|██████████| 63/63 [00:06<00:00,  9.38it/s]\n"
     ]
    },
    {
     "name": "stdout",
     "output_type": "stream",
     "text": [
      "0.09597708 0.7220491844120518 0.860724787544616\n",
      "Epoch: 199\n"
     ]
    },
    {
     "name": "stderr",
     "output_type": "stream",
     "text": [
      "100%|██████████| 6214/6214 [18:04<00:00,  5.73it/s]\n",
      "100%|██████████| 63/63 [00:06<00:00,  9.42it/s]\n"
     ]
    },
    {
     "name": "stdout",
     "output_type": "stream",
     "text": [
      "0.0962529 0.7204493528526148 0.8603047007553049\n"
     ]
    }
   ],
   "source": [
    "device='cuda:0'\n",
    "for repeat in range(5):\n",
    "    set_seed(repeat)\n",
    "    framework = G2D_Pred_Trainer(num_of_genotypes = 3, num_of_dcls = 5, cond_dim = 128, drug_dim = 128,  device = device)\n",
    "    framework.to(device).to(torch.float)\n",
    "\n",
    "\n",
    "    valid = nci_data_train.sample(frac = 0.01, random_state = repeat)\n",
    "    train = pd.concat([nci_data_train, valid], axis = 0).drop_duplicates(keep=False)\n",
    "\n",
    "\n",
    "    samples_weight = train['z_score'].values\n",
    "    samples_weight = torch.from_numpy(samples_weight)\n",
    "    sampler = torch.utils.data.WeightedRandomSampler(samples_weight.type('torch.DoubleTensor'), len(samples_weight))\n",
    "\n",
    "    train = train.iloc[:, 0:4]\n",
    "    valid = valid.iloc[:, 0:4]\n",
    "\n",
    "\n",
    "    train_dataset_obj = GenoDrugDataset(train, cell2mut, drug2smi, cna=cell2cna, cnd=cell2cnd)\n",
    "    val_dataset_obj = GenoDrugDataset(valid, cell2mut, drug2smi, cna=cell2cna, cnd=cell2cnd)\n",
    "    collate_fn = GenoDrugCollator(genotypes=PREDIFINED_GENOTYPES)\n",
    "\n",
    "    _ = framework.train(dataset_obj = train_dataset_obj, collate_fn = collate_fn, \\\n",
    "                                         train_config = train_config, val_dataset_obj = val_dataset_obj, count = repeat, sampler = sampler)"
   ]
  },
  {
   "cell_type": "code",
   "execution_count": null,
   "id": "dc4ef89d",
   "metadata": {},
   "outputs": [],
   "source": []
  }
 ],
 "metadata": {
  "kernelspec": {
   "display_name": "g2d_diff",
   "language": "python",
   "name": "g2d_diff"
  },
  "language_info": {
   "codemirror_mode": {
    "name": "ipython",
    "version": 3
   },
   "file_extension": ".py",
   "mimetype": "text/x-python",
   "name": "python",
   "nbconvert_exporter": "python",
   "pygments_lexer": "ipython3",
   "version": "3.8.10"
  }
 },
 "nbformat": 4,
 "nbformat_minor": 5
}
